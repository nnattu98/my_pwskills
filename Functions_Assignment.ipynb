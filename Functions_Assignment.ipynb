{
 "cells": [
  {
   "cell_type": "markdown",
   "id": "e732a72e-c10b-4051-ab24-e8faeabe823a",
   "metadata": {},
   "source": [
    "### Q1. Which keyword is used to create a function ? Create a function to return a list of odd numbers in the range of 1 to 25."
   ]
  },
  {
   "cell_type": "markdown",
   "id": "91305d2e-8546-4d3d-a625-8b842bc9ee77",
   "metadata": {},
   "source": [
    "def - keyword is used to create a function."
   ]
  },
  {
   "cell_type": "code",
   "execution_count": 22,
   "id": "e541c63c-cf13-4e5b-a03a-68c5e90d5572",
   "metadata": {},
   "outputs": [],
   "source": [
    "def odd_num(a):\n",
    "    l=[]\n",
    "    for i in range(a):\n",
    "        if i % 2 != 0 :\n",
    "            l.append(i)\n",
    "    return l"
   ]
  },
  {
   "cell_type": "code",
   "execution_count": 25,
   "id": "5fd14827-cbbf-4c9c-b51e-c538e9f2bf7a",
   "metadata": {},
   "outputs": [
    {
     "data": {
      "text/plain": [
       "[1, 3, 5, 7, 9, 11, 13, 15, 17, 19, 21, 23]"
      ]
     },
     "execution_count": 25,
     "metadata": {},
     "output_type": "execute_result"
    }
   ],
   "source": [
    "# return the list of odd numbers in the range of 1 to 25\n",
    "odd_num(25)"
   ]
  },
  {
   "cell_type": "markdown",
   "id": "29c9bd1f-f1fc-483d-a07c-a577e9f53eba",
   "metadata": {},
   "source": [
    "### Q2. Why *args and *kwargs is used in some functions ? Create a function each for *args and **kwargs to demonstrate their use."
   ]
  },
  {
   "cell_type": "markdown",
   "id": "97387163-13d6-459a-adc3-a6e224d3bd27",
   "metadata": {},
   "source": [
    "*args is used in the function to pass multiple arguments in the function. These arguments can be of any type i.e. int, str, list, tuple. Also called  non-keyword arguments.\n",
    "\n",
    "**kwargs is also used in the function to pass multiple arguments in the function, but these arguments can only be in pairs of key and value i.e. dict type. Also called keyword arguments."
   ]
  },
  {
   "cell_type": "code",
   "execution_count": 24,
   "id": "ca371ec1-0cbf-412c-986b-a2dd56ce758f",
   "metadata": {},
   "outputs": [
    {
     "data": {
      "text/plain": [
       "('Hello', 'Welcome', 'to', 'PW Skills')"
      ]
     },
     "execution_count": 24,
     "metadata": {},
     "output_type": "execute_result"
    }
   ],
   "source": [
    "# *args example \n",
    "\n",
    "def myFun(*a):\n",
    "    return a\n",
    "\n",
    "myFun('Hello', 'Welcome','to','PW Skills')"
   ]
  },
  {
   "cell_type": "code",
   "execution_count": 9,
   "id": "ce507e7b-a061-4fa3-8a84-39062eb9be1e",
   "metadata": {},
   "outputs": [
    {
     "data": {
      "text/plain": [
       "{'name': 'Deepak', 'course': 'DSM', 'batch': 'impact', 'year': 2023}"
      ]
     },
     "execution_count": 9,
     "metadata": {},
     "output_type": "execute_result"
    }
   ],
   "source": [
    "# **kwargs example\n",
    "\n",
    "def myFun1(**a):\n",
    "    return a\n",
    "\n",
    "myFun1(name = 'Deepak', course = 'DSM', batch = 'impact', year = 2023)"
   ]
  },
  {
   "cell_type": "markdown",
   "id": "acb61c55-2aef-4ec6-a912-ef1be16bc63b",
   "metadata": {},
   "source": [
    "### Q3. What is an iterator in python ? Name the method used to initialise the iterator object and the method used for iteration. Use these methods to print the first five elements of the given list [2,4,6,8,10,12,14,16,18,20]"
   ]
  },
  {
   "cell_type": "markdown",
   "id": "c1d7b28b-41ac-48ba-98bb-e7162b55e8c6",
   "metadata": {},
   "source": [
    "Iterator in Python is an object that is used to iterate over iterable objects like lists, tuples, dicts, and sets.\n",
    "\n",
    "__iter__(): The iter() method is called for the initialization of an iterator. This returns an iterator object.\n",
    "\n",
    "__next__(): The next method returns the next value for the iterable. When we use a for loop to traverse any iterable object, internally it uses the iter() method to get an iterator object, which further uses the next() method to iterate over. This method raises a StopIteration to signal the end of the iteration."
   ]
  },
  {
   "cell_type": "code",
   "execution_count": 26,
   "id": "61fbe89b-5f30-43e6-b267-ec94598e4b21",
   "metadata": {},
   "outputs": [
    {
     "name": "stdout",
     "output_type": "stream",
     "text": [
      "2\n",
      "4\n",
      "6\n",
      "8\n",
      "10\n"
     ]
    }
   ],
   "source": [
    "l=[2,4,6,8,10,12,14,16,18,20]\n",
    "l1=iter(l)\n",
    "print(next(l1))\n",
    "print(next(l1))\n",
    "print(next(l1))\n",
    "print(next(l1))\n",
    "print(next(l1))"
   ]
  },
  {
   "cell_type": "markdown",
   "id": "852dde4d-bcb9-4e20-bbe8-9aad65cbbef9",
   "metadata": {},
   "source": [
    "### Q4. What is a generator function in python ? Why yield keyword is used ? Give an example of a generator function."
   ]
  },
  {
   "cell_type": "markdown",
   "id": "a2a64fa9-ef30-43d7-a260-38651264d44b",
   "metadata": {},
   "source": [
    "A generator function is defined like a normal function, but whenever it needs to generate a value, it does so with the yield keyword rather than return. If the body of a def contains yield, the function automatically becomes a generator function.\n",
    "\n",
    "The yield statement suspends function’s execution and sends a value back to the caller, but retains enough state to enable function to resume where it is left off. When resumed, the function continues execution immediately after the last yield run. This allows its code to produce a series of values over time, rather than computing them at once and sending them back like a list."
   ]
  },
  {
   "cell_type": "code",
   "execution_count": 27,
   "id": "1ab141f2-8d97-4c88-b7ec-46c708e48f13",
   "metadata": {},
   "outputs": [
    {
     "name": "stdout",
     "output_type": "stream",
     "text": [
      "Hello Krish!!\n",
      "Hello Sudhanshu!!\n",
      "Its Deepak here\n"
     ]
    }
   ],
   "source": [
    "def my_gen():\n",
    "    yield \"Hello Krish!!\"\n",
    "    yield \"Hello Sudhanshu!!\"\n",
    "    yield \"Its Deepak here\"\n",
    "    \n",
    "obj = my_gen()\n",
    " \n",
    "print(next(obj))\n",
    "print(next(obj))\n",
    "print(next(obj))"
   ]
  },
  {
   "cell_type": "markdown",
   "id": "a1f18830-bf08-4281-8b02-18eef963ea46",
   "metadata": {},
   "source": [
    "### Q5. Create a generator function for prime numbers less than 1000. Use the next() method to print the first 20 prime numbers."
   ]
  },
  {
   "cell_type": "code",
   "execution_count": 28,
   "id": "c87779b4-5195-45b2-89a2-8644fbfddc9d",
   "metadata": {},
   "outputs": [
    {
     "name": "stdout",
     "output_type": "stream",
     "text": [
      "[2, 3, 5, 7, 11, 13, 17, 19, 23, 29, 31, 37, 41, 43, 47, 53, 59, 61, 67, 71, 73, 79, 83, 89, 97, 101, 103, 107, 109, 113, 127, 131, 137, 139, 149, 151, 157, 163, 167, 173, 179, 181, 191, 193, 197, 199, 211, 223, 227, 229, 233, 239, 241, 251, 257, 263, 269, 271, 277, 281, 283, 293, 307, 311, 313, 317, 331, 337, 347, 349, 353, 359, 367, 373, 379, 383, 389, 397, 401, 409, 419, 421, 431, 433, 439, 443, 449, 457, 461, 463, 467, 479, 487, 491, 499, 503, 509, 521, 523, 541, 547, 557, 563, 569, 571, 577, 587, 593, 599, 601, 607, 613, 617, 619, 631, 641, 643, 647, 653, 659, 661, 673, 677, 683, 691, 701, 709, 719, 727, 733, 739, 743, 751, 757, 761, 769, 773, 787, 797, 809, 811, 821, 823, 827, 829, 839, 853, 857, 859, 863, 877, 881, 883, 887, 907, 911, 919, 929, 937, 941, 947, 953, 967, 971, 977, 983, 991, 997]\n",
      "\n",
      "2 3 5 7 11 13 17 19 23 29 31 37 41 43 47 53 59 61 67 71 "
     ]
    }
   ],
   "source": [
    "def prime_num(n=1000):\n",
    "    for i in range(2,n+1):\n",
    "        if i==2:\n",
    "            yield i\n",
    "        else:\n",
    "            for j in range(2,i//2+1):\n",
    "                if i%j==0:\n",
    "                    break\n",
    "            else:\n",
    "                yield i\n",
    "l=prime_num()\n",
    "print(list(l))\n",
    "print()\n",
    "x=prime_num()\n",
    "for i in range(1,21):\n",
    "    print(next(x), end=\" \")"
   ]
  }
 ],
 "metadata": {
  "kernelspec": {
   "display_name": "Python 3 (ipykernel)",
   "language": "python",
   "name": "python3"
  },
  "language_info": {
   "codemirror_mode": {
    "name": "ipython",
    "version": 3
   },
   "file_extension": ".py",
   "mimetype": "text/x-python",
   "name": "python",
   "nbconvert_exporter": "python",
   "pygments_lexer": "ipython3",
   "version": "3.10.8"
  }
 },
 "nbformat": 4,
 "nbformat_minor": 5
}
