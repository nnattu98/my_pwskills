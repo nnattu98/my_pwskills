{
 "cells": [
  {
   "cell_type": "markdown",
   "id": "eb00ba79-0f1c-430c-b8b7-308f75f9d6d6",
   "metadata": {},
   "source": [
    "### Q1. What is multiprocessing in python ? Why is it useful ?"
   ]
  },
  {
   "cell_type": "markdown",
   "id": "f521dc53-c3cb-419b-8053-5e90997a4710",
   "metadata": {},
   "source": [
    "#### Answer :\n",
    "\n",
    "Multiprocessing in Python is a technique for running multiple processes in parallel using multiple CPU cores or processors, with each process executing independently and concurrently. This is in contrast to multithreading, which involves multiple threads executing within a single process.\n",
    "\n",
    "Multiprocessing can be useful in several situations. First, it can be used to speed up CPU-bound tasks by utilizing multiple cores or processors. This can lead to significant performance improvements, particularly for computationally intensive tasks that take a long time to complete.\n",
    "\n",
    "Second, multiprocessing can be used to take advantage of multiple physical processors or cores in a server environment, allowing for greater concurrency and parallelism. This can help improve the scalability and responsiveness of web applications, for example.\n",
    "\n",
    "Finally, multiprocessing can be used to improve the reliability of a system by isolating processes from each other. If a single process crashes or encounters an error, it does not affect other processes that are running concurrently.\n",
    "\n",
    "Overall, multiprocessing in Python can help improve performance, scalability, and reliability of a system. However, it is important to design applications and processes carefully to ensure that they are thread-safe and do not lead to issues such as race conditions or deadlocks."
   ]
  },
  {
   "cell_type": "markdown",
   "id": "f129a2da-91f2-44b2-a49f-a0a006b1c213",
   "metadata": {},
   "source": [
    "### Q2. What are the differences between multiprocessing and multithreading ?"
   ]
  },
  {
   "cell_type": "markdown",
   "id": "1b029a31-2441-4aa3-ad4b-58b6014ea26c",
   "metadata": {},
   "source": [
    "#### Answer :\n",
    "\n",
    "Multiprocessing and multithreading are two techniques used to achieve parallelism in programming. However, they differ in several ways:\n",
    "\n",
    "Execution: In multiprocessing, multiple processes are executed in parallel, while in multithreading, multiple threads within a single process are executed in parallel.\n",
    "\n",
    "Isolation: In multiprocessing, each process has its own memory space and resources, while in multithreading, threads share the same memory space and resources within a process.\n",
    "\n",
    "Overhead: Creating a new process involves a higher overhead than creating a new thread. This is because a new process requires a separate memory space, and the operating system needs to perform additional tasks such as creating a new process ID and allocating system resources.\n",
    "\n",
    "Communication: Processes communicate with each other through inter-process communication (IPC), which can be slow and resource-intensive. In contrast, threads within a process can communicate with each other through shared memory, which is faster and more efficient.\n",
    "\n",
    "Fault tolerance: A crash or error in one process does not affect other processes, which continue to execute independently. In contrast, a crash or error in one thread can cause the entire process to crash.\n",
    "\n",
    "CPU-bound vs I/O-bound tasks: Multiprocessing is more effective for CPU-bound tasks, where the processing time is dominated by computations. Multithreading is more effective for I/O-bound tasks, where the processing time is dominated by waiting for I/O operations such as reading from a file or a network socket.\n",
    "\n",
    "Overall, multiprocessing and multithreading are both useful techniques for achieving parallelism in programming, but the choice between them depends on the specific requirements of the task at hand."
   ]
  },
  {
   "cell_type": "markdown",
   "id": "0431920a-4608-4052-b795-4a8322be25fb",
   "metadata": {},
   "source": [
    "### Q3. Write a python code to create a process using the multiprocessing module ?"
   ]
  },
  {
   "cell_type": "code",
   "execution_count": 2,
   "id": "7dccfa71-aec9-49ca-9df8-6c495d48f522",
   "metadata": {},
   "outputs": [
    {
     "name": "stdout",
     "output_type": "stream",
     "text": [
      "Worker process started\n",
      "Worker process completed\n"
     ]
    }
   ],
   "source": [
    "# Answer :-\n",
    "\n",
    "import multiprocessing\n",
    "\n",
    "def worker():\n",
    "    \"\"\"A simple function that will be executed by the child process\"\"\"\n",
    "    print(\"Worker process started\")\n",
    "\n",
    "if __name__ == '__main__':\n",
    "    # Create a new process\n",
    "    p = multiprocessing.Process(target=worker)\n",
    "\n",
    "    # Start the process\n",
    "    p.start()\n",
    "\n",
    "    # Wait for the process to finish\n",
    "    p.join()\n",
    "\n",
    "    print(\"Worker process completed\")"
   ]
  },
  {
   "cell_type": "markdown",
   "id": "4debd20b-a6eb-4e1d-b3e6-08f66f1bad6e",
   "metadata": {},
   "source": [
    "### Q4. What is a multiprocessing pool in python? Why is it useful ?"
   ]
  },
  {
   "cell_type": "markdown",
   "id": "b190eb69-2a0b-4c44-94c6-84f62c3e9208",
   "metadata": {},
   "source": [
    "#### Answer:\n",
    "\n",
    "A multiprocessing pool in Python is a way to execute multiple function calls in parallel by distributing the workload across a pool of worker processes. The multiprocessing.Pool class provides a convenient way to create and manage a pool of worker processes in Python."
   ]
  },
  {
   "cell_type": "markdown",
   "id": "1630939c-1afe-4028-a785-332268f689b2",
   "metadata": {},
   "source": [
    "### Q5. How can we create a pool of worker processes in python using the multiprocessing module ?"
   ]
  },
  {
   "cell_type": "code",
   "execution_count": 3,
   "id": "aa89b6c4-368a-45cf-9654-ffc38d14526c",
   "metadata": {},
   "outputs": [
    {
     "name": "stdout",
     "output_type": "stream",
     "text": [
      "Results: [1, 4, 9, 16, 25, 36, 49, 64, 81, 100]\n"
     ]
    }
   ],
   "source": [
    "# Answer :-\n",
    "\n",
    "import multiprocessing\n",
    "\n",
    "def worker(number):\n",
    "    \"\"\"A simple function that will be executed by the child process\"\"\"\n",
    "    return number ** 2\n",
    "\n",
    "if __name__ == '__main__':\n",
    "    # Create a pool of 4 worker processes\n",
    "    with multiprocessing.Pool(processes=4) as pool:\n",
    "        # Map the worker function to a list of numbers\n",
    "        results = pool.map(worker, [1, 2, 3, 4, 5, 6, 7, 8, 9, 10])\n",
    "\n",
    "    print(\"Results:\", results)"
   ]
  },
  {
   "cell_type": "markdown",
   "id": "48ea05f4-32f5-410a-b11f-f26101e9127a",
   "metadata": {},
   "source": [
    "### Q6. Write a python program to create 4 processes, each process should print a different number using the multiprocessing module in python."
   ]
  },
  {
   "cell_type": "code",
   "execution_count": 4,
   "id": "95b0f7cd-64ea-4a61-b184-4149fa22ab5b",
   "metadata": {},
   "outputs": [
    {
     "name": "stdout",
     "output_type": "stream",
     "text": [
      "Process 1 startedProcess 2 started\n",
      "\n",
      "Process 3 started\n",
      "Process 4 started\n",
      "All processes completed\n"
     ]
    }
   ],
   "source": [
    "# Answer :\n",
    "\n",
    "import multiprocessing\n",
    "\n",
    "def worker(number):\n",
    "    \"\"\"A simple function that will be executed by the child process\"\"\"\n",
    "    print(f\"Process {number} started\")\n",
    "\n",
    "if __name__ == '__main__':\n",
    "    # Create a list of numbers from 1 to 4\n",
    "    numbers = [1, 2, 3, 4]\n",
    "\n",
    "    # Create a new process for each number\n",
    "    processes = [multiprocessing.Process(target=worker, args=(number,)) for number in numbers]\n",
    "\n",
    "    # Start each process\n",
    "    for process in processes:\n",
    "        process.start()\n",
    "\n",
    "    # Wait for each process to finish\n",
    "    for process in processes:\n",
    "        process.join()\n",
    "\n",
    "    print(\"All processes completed\")"
   ]
  },
  {
   "cell_type": "code",
   "execution_count": null,
   "id": "04878d74-5a7a-4517-8fa0-4b5313b7feca",
   "metadata": {},
   "outputs": [],
   "source": []
  }
 ],
 "metadata": {
  "kernelspec": {
   "display_name": "Python 3 (ipykernel)",
   "language": "python",
   "name": "python3"
  },
  "language_info": {
   "codemirror_mode": {
    "name": "ipython",
    "version": 3
   },
   "file_extension": ".py",
   "mimetype": "text/x-python",
   "name": "python",
   "nbconvert_exporter": "python",
   "pygments_lexer": "ipython3",
   "version": "3.10.8"
  }
 },
 "nbformat": 4,
 "nbformat_minor": 5
}
