{
 "cells": [
  {
   "cell_type": "markdown",
   "id": "7060225e-715c-4811-8f10-c9858591955d",
   "metadata": {},
   "source": [
    "### Q1. What is Flask Framework? What are the advantages of Flask Framework?"
   ]
  },
  {
   "cell_type": "markdown",
   "id": "3737fbb9-7ac5-4d7a-94c5-cf882098539e",
   "metadata": {},
   "source": [
    "## Answer:\n",
    "Flask is a lightweight web application framework written in Python that provides a simple and flexible way to build web applications. It is classified as a microframework because it does not require particular tools or libraries and has no database abstraction layer or form validation. Flask is designed to keep the core of the application simple and extensible, and it can be easily extended with third-party packages.\n",
    "\n",
    "Advantages:\n",
    "1. Lightweight and Flexible: Flask is a microframework and does not come with a lot of built-in functionality. This makes it lightweight and flexible, allowing developers to only use what they need and not be burdened by unnecessary features.\n",
    "\n",
    "2. Easy to Learn and Use: Flask has a small and easy-to-understand codebase, making it easy to learn and use. It has a simple API, and its documentation is comprehensive and easy to follow.\n",
    "\n",
    "3. Extensible: Flask can be easily extended using third-party packages, making it possible to add functionality to your application without having to reinvent the wheel.\n",
    "\n",
    "4. Large and Active Community: Flask has a large and active community, which means that you can find lots of tutorials, examples, and help online. This makes it easy to get started with Flask and solve problems when they arise.\n",
    "\n",
    "5. Flask is built on Python: Since Flask is built on Python, it has access to a large number of libraries and packages, making it easy to integrate with other Python libraries and frameworks.\n",
    "\n",
    "6. Customizable: Flask allows developers to create their own extensions, and it also provides various configuration options. This makes it possible to customize the framework to suit the needs of your application."
   ]
  },
  {
   "cell_type": "markdown",
   "id": "1a9e9aa0-9a7f-48d8-bbf8-736e5e2a4814",
   "metadata": {},
   "source": [
    "### Q2. Create a simple Flask application to display ‘Hello World!!’. Attach the screenshot of the output in Jupyter Notebook."
   ]
  },
  {
   "cell_type": "markdown",
   "id": "a9863829-cc7e-4074-8496-dfe6317576d9",
   "metadata": {},
   "source": [
    "#### Answer:"
   ]
  },
  {
   "cell_type": "code",
   "execution_count": null,
   "id": "f8f29775-d350-4a49-8ab7-8cc7a27e96b9",
   "metadata": {},
   "outputs": [],
   "source": [
    "from flask import Flask\n",
    "\n",
    "app = Flask(__name__)\n",
    "\n",
    "@app.route('/')\n",
    "def hello_world():\n",
    "    return \"<h1> Hello World!!</h1>\" \n",
    "\n",
    "if __name__==\"__main__\":\n",
    "    app.run(host=\"0.0.0.0\")"
   ]
  },
  {
   "attachments": {
    "13f56169-59ab-435c-9242-f9274ad46fa3.png": {
     "image/png": "[encoded data removed]"
    }
   },
   "cell_type": "markdown",
   "id": "3eb73e4d-6f61-4163-92d2-dec5e8bffa56",
   "metadata": {},
   "source": [
    "![image.png](attachment:13f56169-59ab-435c-9242-f9274ad46fa3.png)"
   ]
  },
  {
   "cell_type": "markdown",
   "id": "3d567235-eb59-49c9-b54f-d52124409517",
   "metadata": {},
   "source": [
    "# Q3. What is App routing in Flask? Why do we use app routes?"
   ]
  },
  {
   "cell_type": "markdown",
   "id": "eaec47fc-c239-4638-ae26-9e73a2d7094d",
   "metadata": {},
   "source": [
    "#### Answer:\n",
    "In Flask, an app route is a URL path that a web application will respond to. It is a decorator that binds a function to a URL endpoint, which means that when a user makes a request to a specific URL, the function that is bound to that URL endpoint will be executed.\n",
    "\n",
    "App routing is an essential part of web development because it enables a web application to serve different content for different URLs. Using app routes, you can define the URLs that your application will respond to and the functions that will be executed in response to those URLs. This makes it possible to create dynamic, interactive web applications that respond to user input and deliver personalized content."
   ]
  },
  {
   "cell_type": "markdown",
   "id": "ebed1483-8ff4-4421-8b60-37568daae6e9",
   "metadata": {},
   "source": [
    "### Q4. Create a “/welcome” route to display the welcome message “Welcome to ABC Corporation” and a “/” route to show the following details:\n",
    "\n",
    "* Company Name: ABC Corporation\n",
    "* Location: India\n",
    "* Contact Detail: 999-999-9999"
   ]
  },
  {
   "cell_type": "markdown",
   "id": "8d337149-3120-4ec6-b8b7-7a4363285f0c",
   "metadata": {},
   "source": [
    "#### Answer"
   ]
  },
  {
   "cell_type": "code",
   "execution_count": null,
   "id": "f573a81c-f066-4bcc-a46e-0e7e679a82cb",
   "metadata": {},
   "outputs": [],
   "source": [
    "from flask import Flask\n",
    "\n",
    "app = Flask(__name__)\n",
    "\n",
    "@app.route('/')\n",
    "def hello_world():\n",
    "    return \"<p>Company Name: ABC Corporation</p><p>Location: India</p><p>Contact Detail: 999-999-9999</p>\"\n",
    "\n",
    "@app.route('/welcome')\n",
    "def welcome():\n",
    "    return \"Welcome to ABC Corporation\"\n",
    "\n",
    "if __name__==\"__main__\":\n",
    "    app.run(host=\"0.0.0.0\")"
   ]
  },
  {
   "attachments": {
    "a7250782-d837-4e42-b688-711ff4299cb2.png": {
     "image/png": "[encoded data removed]"
    }
   },
   "cell_type": "markdown",
   "id": "f9736d3b-76d2-408b-8d25-b7774f5a9244",
   "metadata": {},
   "source": [
    "![image.png](attachment:a7250782-d837-4e42-b688-711ff4299cb2.png)"
   ]
  },
  {
   "attachments": {
    "3710d8cf-dff1-4fa1-87b7-915212bdc586.png": {
     "image/png": "[encoded data removed]"
    }
   },
   "cell_type": "markdown",
   "id": "02eb550b-5e35-4b9b-9800-60865d987ae3",
   "metadata": {},
   "source": [
    "![image.png](attachment:3710d8cf-dff1-4fa1-87b7-915212bdc586.png)"
   ]
  },
  {
   "cell_type": "markdown",
   "id": "2ad8bc44-e0db-479a-9ece-a7ba6c54a023",
   "metadata": {},
   "source": [
    "### Q5. What function is used in Flask for URL Building? Write a Python code to demonstrate the working of the url_for() function."
   ]
  },
  {
   "cell_type": "markdown",
   "id": "504c4933-fc7c-47c4-9129-b92902bbf761",
   "metadata": {},
   "source": [
    "#### Answer:\n",
    "In Flask, the url_for() function is used to build URLs for specific functions in your application. The url_for() function takes the name of the function as an argument and returns the URL associated with that function."
   ]
  },
  {
   "cell_type": "code",
   "execution_count": null,
   "id": "fb49bd68-c48b-4f00-a99e-f765cea0e7dc",
   "metadata": {},
   "outputs": [],
   "source": [
    "from flask import Flask\n",
    "from flask import url_for\n",
    "\n",
    "app = Flask(__name__)\n",
    "\n",
    "@app.route('/')\n",
    "def hello_world():\n",
    "    return \"<p>Company Name: ABC Corporation</p><p>Location: India</p><p>Contact Detail: 999-999-9999</p>\"\n",
    "\n",
    "@app.route('/welcome')\n",
    "def welcome():\n",
    "    return \"Welcome to ABC Corporation\"\n",
    "\n",
    "with app.test_request_context():\n",
    "    print(url_for('welcome'))\n",
    "\n",
    "if __name__==\"__main__\":\n",
    "    app.run(host=\"0.0.0.0\")\n",
    "    \n",
    "#builds url \"/welcome\" for welcome function"
   ]
  }
 ],
 "metadata": {
  "kernelspec": {
   "display_name": "Python 3 (ipykernel)",
   "language": "python",
   "name": "python3"
  },
  "language_info": {
   "codemirror_mode": {
    "name": "ipython",
    "version": 3
   },
   "file_extension": ".py",
   "mimetype": "text/x-python",
   "name": "python",
   "nbconvert_exporter": "python",
   "pygments_lexer": "ipython3",
   "version": "3.10.8"
  }
 },
 "nbformat": 4,
 "nbformat_minor": 5
}
