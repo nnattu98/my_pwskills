{
 "cells": [
  {
   "cell_type": "markdown",
   "id": "69abca9c-51e2-40c2-bb42-55b3ab18119e",
   "metadata": {},
   "source": [
    "#### Q1. Explain Class and Object with respect to Object Oriented Programming. Give a suitable example."
   ]
  },
  {
   "cell_type": "markdown",
   "id": "e444a748-fc1d-4e3b-8d49-9b6aa5a60be9",
   "metadata": {},
   "source": [
    "##### Class"
   ]
  },
  {
   "cell_type": "markdown",
   "id": "8f693a5d-1321-4379-8d82-2ae24ee8652a",
   "metadata": {},
   "source": [
    "A class is considered as a blueprint of objects. We can think of the class as a sketch (prototype) of a house. It contains all the details about the floors, doors, windows, etc. Based on these descriptions we build the house. House is the object.\n",
    "\n",
    "Since many houses can be made from the same description, we can create many objects from a class."
   ]
  },
  {
   "cell_type": "markdown",
   "id": "e25e85d6-82b7-40f2-8982-8a831e5b7210",
   "metadata": {},
   "source": [
    "##### Object"
   ]
  },
  {
   "cell_type": "markdown",
   "id": "b00d4b32-9984-4293-a12a-a81528cc171d",
   "metadata": {},
   "source": [
    "An object is called an instance of a class. \n",
    "\n",
    "For example, suppose Bike is a class then we can create objects like bike1, bike2, etc from the class."
   ]
  },
  {
   "cell_type": "code",
   "execution_count": 4,
   "id": "dc42c306-3db6-43ae-aad6-e91e59941552",
   "metadata": {},
   "outputs": [
    {
     "name": "stdout",
     "output_type": "stream",
     "text": [
      "Name: Road Bike, Gears: 8 \n"
     ]
    }
   ],
   "source": [
    "# Example of Class and Object :\n",
    "\n",
    "# Class example :\n",
    "class Bike:\n",
    "    name = \"\"\n",
    "    gear = 0\n",
    "\n",
    "# Object example :\n",
    "bike1 = Bike()\n",
    "\n",
    "# How to access attributes of class from object :\n",
    "\n",
    "bike1.gear = 8\n",
    "bike1.name = \"Road Bike\"\n",
    "\n",
    "print(f\"Name: {bike1.name}, Gears: {bike1.gear} \")"
   ]
  },
  {
   "cell_type": "markdown",
   "id": "341b394c-dede-48c7-90de-1af052a40c9b",
   "metadata": {},
   "source": [
    "#### Q2. Name the four pillars of OOPs"
   ]
  },
  {
   "cell_type": "markdown",
   "id": "9642ff91-2988-4b0f-a8a6-d0f5b049a9ef",
   "metadata": {},
   "source": [
    "The four pillars of OOPs are as below :\n",
    "1. Inheritance\n",
    "2. Polymorphism\n",
    "3. Encapsulation\n",
    "4. Abstraction"
   ]
  },
  {
   "cell_type": "markdown",
   "id": "0d30cda2-825d-4646-8105-767c6d8185fc",
   "metadata": {},
   "source": [
    "#### Q3. Explain why the \"__init__()\" function is used. Give a suitable example."
   ]
  },
  {
   "cell_type": "markdown",
   "id": "b9fbf08c-6afb-42c3-9323-92d14f0306e5",
   "metadata": {},
   "source": [
    "The __init__() function is used inside the class method, when it is created. This function assigns all the arguments passed while creating the object to the newly created objects. \n",
    "If this function is not used, then we have to assign or print specific details whenever a new object is added to our program.\n",
    "\n",
    "This is also called constructor method. It is also called 'magic method'.\n",
    "\n",
    "This method is called automatically whenever a new object of a class is created. A constructor function is a function that is called every time a new class object is created."
   ]
  },
  {
   "cell_type": "code",
   "execution_count": 5,
   "id": "d0a1e145-9c98-4975-866d-3d5781183a9f",
   "metadata": {},
   "outputs": [
    {
     "name": "stdout",
     "output_type": "stream",
     "text": [
      "I ran first\n",
      "I ran second\n",
      "Name: Audi R8\n"
     ]
    }
   ],
   "source": [
    "# Example :\n",
    "\n",
    "class Car:\n",
    "    def __init__(self, name):\n",
    "        self.name = name\n",
    "        print(\"I ran first\")\n",
    " \n",
    "    def product(self):\n",
    "        print(\"I ran second\")\n",
    "        return (\"Name: \" + self.name)\n",
    " \n",
    " \n",
    "C = Car('Audi R8')\n",
    "print(C.product())"
   ]
  },
  {
   "cell_type": "markdown",
   "id": "7034ffaa-ea52-4335-b95b-4ca3629f7206",
   "metadata": {},
   "source": [
    "#### Q4. What is inheritance ? Give an example for each type of inheritance."
   ]
  },
  {
   "cell_type": "markdown",
   "id": "4f2cd155-676c-40f2-88dc-780b73f5a7a7",
   "metadata": {},
   "source": [
    "Inheritance is a process of obtaining properties and characteristics(variables and methods) of another class. In this hierarchical order, the class which inherits another class is called subclass or child class, and the other class is the parent class.\n",
    "\n",
    "Inheritance is categorized based on the hierarchy followed and the number of parent classes and subclasses involved.\n",
    "\n",
    "There are five types of inheritances:\n",
    "- Single Inheritance\n",
    "- Multiple Inheritance\n",
    "- Multilevel Inheritance\n",
    "- Hierarchical Inheritance\n",
    "- Hybrid Inheritance"
   ]
  },
  {
   "cell_type": "code",
   "execution_count": 8,
   "id": "d4a213dd-d68d-47e8-ab08-c3ba32a3fa56",
   "metadata": {},
   "outputs": [
    {
     "name": "stdout",
     "output_type": "stream",
     "text": [
      "Hey there, you are in the parent class\n",
      "Hey there, you are in the sub class\n",
      "Hey there, you are in the parent class\n",
      "10\n",
      "5\n"
     ]
    }
   ],
   "source": [
    "# Example : \n",
    "\n",
    "#parent class\n",
    "class Above:\n",
    "    i = 5\n",
    "    def fun1(self):\n",
    "        print(\"Hey there, you are in the parent class\")\n",
    "\n",
    "#subclass\n",
    "class Below(Above):\n",
    "    i=10\n",
    "    def fun2(self):\n",
    "        print(\"Hey there, you are in the sub class\")\n",
    "\n",
    "temp1=Below()\n",
    "temp2=Above()\n",
    "temp1.fun1()\n",
    "temp1.fun2()\n",
    "temp2.fun1()\n",
    "print(temp1.i)\n",
    "print(temp2.i)\n",
    "#temp2.fun2()"
   ]
  },
  {
   "cell_type": "code",
   "execution_count": null,
   "id": "e7120cbf-d41f-4b43-a84d-b8ea68975f39",
   "metadata": {},
   "outputs": [],
   "source": []
  }
 ],
 "metadata": {
  "kernelspec": {
   "display_name": "Python 3 (ipykernel)",
   "language": "python",
   "name": "python3"
  },
  "language_info": {
   "codemirror_mode": {
    "name": "ipython",
    "version": 3
   },
   "file_extension": ".py",
   "mimetype": "text/x-python",
   "name": "python",
   "nbconvert_exporter": "python",
   "pygments_lexer": "ipython3",
   "version": "3.10.8"
  }
 },
 "nbformat": 4,
 "nbformat_minor": 5
}
