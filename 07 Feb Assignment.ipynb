{
 "cells": [
  {
   "cell_type": "markdown",
   "id": "7180e94d-fd06-4864-9127-a42530850252",
   "metadata": {},
   "source": [
    "#### Q1. You are writing code for a company. The requirement of the company is that you create a python function that will check whether the password entered by the user is correct or not. The function should take the password as input and return the string \"Valid Password\" if the entered password follows the below-given password guidelines else it should return \"Invalid Password\".\n",
    "\n",
    "#### Note :\n",
    "1. The Password should contain atleast two uppercase letters and atleast two lowercase letters.\n",
    "2. The Password should contain atleast a number and three special characters.\n",
    "3. The length of the Password should be 10 characters long."
   ]
  },
  {
   "cell_type": "code",
   "execution_count": 1,
   "id": "f77eafef-3203-41b8-b6db-00e172dafa75",
   "metadata": {},
   "outputs": [
    {
     "name": "stdin",
     "output_type": "stream",
     "text": [
      "Enter password :  NehaSharma@@@123#\n"
     ]
    },
    {
     "name": "stdout",
     "output_type": "stream",
     "text": [
      "Valid Password\n"
     ]
    }
   ],
   "source": [
    "pwd = input('Enter password : ')\n",
    "\n",
    "def password(pwd):\n",
    "    upper_count = 0\n",
    "    lower_count = 0\n",
    "    number_count = 0\n",
    "    special_char = 0\n",
    "    for i in pwd:\n",
    "        if i.isupper() == True:\n",
    "            upper_count = upper_count + 1\n",
    "        elif i.islower() == True:\n",
    "            lower_count = lower_count + 1\n",
    "        elif i.isdigit() == True:\n",
    "            number_count = number_count + 1\n",
    "        else :\n",
    "            special_char = special_char + 1\n",
    "    if upper_count >= 2 and lower_count >= 2 and number_count >= 1 and special_char >= 3 and len(pwd) >= 10:\n",
    "        return 'Valid Password'\n",
    "\n",
    "print(password(pwd))"
   ]
  },
  {
   "cell_type": "markdown",
   "id": "3653e378-8edf-473f-9a95-72b03e569d6f",
   "metadata": {},
   "source": [
    "#### Q2. Solve the below-given questions using at least one of the following :\n",
    "1. Lambda function\n",
    "2. Filter function\n",
    "3. Map function \n",
    "4. List Comprehension\n",
    "\n",
    "- Check if the string starts with a particular letter.\n",
    "- Check if the string is numeric.\n",
    "- Sort a list of tuples having fruit names and their quantity. [('mango',99),('orange',80),('grapes',1000)]\n",
    "- Find the squares of numbers from 1 to 10.\n",
    "- Find the cube root of numbers from 1 to 10.\n",
    "- Check if a given number is even.\n",
    "- Filter odd numbers from the given list. [1,2,3,4,5,6,7,8,9,10]\n",
    "- Sort a list of integers into positive and negative integers lists. [1,2,3,4,5,6,-1,-2,-3,-4,-5,0]"
   ]
  },
  {
   "cell_type": "code",
   "execution_count": 3,
   "id": "a2d52331-8913-42bd-afa7-8d4fd2b71d75",
   "metadata": {},
   "outputs": [
    {
     "data": {
      "text/plain": [
       "True"
      ]
     },
     "execution_count": 3,
     "metadata": {},
     "output_type": "execute_result"
    }
   ],
   "source": [
    "# Check if the string starts with a particular letter.\n",
    "s='test'\n",
    "s1= True if s[0]=='t' else False\n",
    "s1"
   ]
  },
  {
   "cell_type": "code",
   "execution_count": 7,
   "id": "ebce5572-7c5a-48b3-acc4-349d2b720d66",
   "metadata": {},
   "outputs": [
    {
     "data": {
      "text/plain": [
       "True"
      ]
     },
     "execution_count": 7,
     "metadata": {},
     "output_type": "execute_result"
    }
   ],
   "source": [
    "# Check if the string is numeric.\n",
    "s='12345'\n",
    "s1 = True if s.isnumeric()==True else False\n",
    "s1"
   ]
  },
  {
   "cell_type": "code",
   "execution_count": 11,
   "id": "bef1907e-adc2-45b3-bc0a-4248403d12ac",
   "metadata": {},
   "outputs": [
    {
     "data": {
      "text/plain": [
       "[('orange', 80), ('mango', 99), ('grapes', 1000)]"
      ]
     },
     "execution_count": 11,
     "metadata": {},
     "output_type": "execute_result"
    }
   ],
   "source": [
    "# Sort a list of tuples having fruit nanmes and their quantity.\n",
    "fruits = [('mango', 99), ('orange', 80), ('grapes', 1000)]\n",
    "l = sorted(fruits, key = lambda x : x[1])\n",
    "l"
   ]
  },
  {
   "cell_type": "code",
   "execution_count": 24,
   "id": "b614c109-2d2f-40e2-9f16-cadfdcb8bcb9",
   "metadata": {},
   "outputs": [
    {
     "data": {
      "text/plain": [
       "[1, 4, 9, 16, 25, 36, 49, 64, 81, 100]"
      ]
     },
     "execution_count": 24,
     "metadata": {},
     "output_type": "execute_result"
    }
   ],
   "source": [
    "# Find the squares of numbers from 1 to 10\n",
    "l = [1,2,3,4,5,6,7,8,9,10]\n",
    "l1 = map(lambda x : x**2, l)\n",
    "list(l1)"
   ]
  },
  {
   "cell_type": "code",
   "execution_count": 26,
   "id": "07dfbd71-e989-416c-989a-b8ebc22d7dd9",
   "metadata": {},
   "outputs": [
    {
     "data": {
      "text/plain": [
       "[1.0,\n",
       " 1.2599210498948732,\n",
       " 1.4422495703074083,\n",
       " 1.5874010519681994,\n",
       " 1.7099759466766968,\n",
       " 1.8171205928321397,\n",
       " 1.912931182772389,\n",
       " 2.0,\n",
       " 2.080083823051904,\n",
       " 2.154434690031884]"
      ]
     },
     "execution_count": 26,
     "metadata": {},
     "output_type": "execute_result"
    }
   ],
   "source": [
    "# Find the cube root of numbers from 1 to 10.\n",
    "l = [1,2,3,4,5,6,7,8,9,10]\n",
    "l1 = map(lambda x : x**(1./3), l)\n",
    "list(l1)"
   ]
  },
  {
   "cell_type": "code",
   "execution_count": 35,
   "id": "c73e47ae-13b2-4b11-b5e9-160e1ff2d588",
   "metadata": {},
   "outputs": [
    {
     "data": {
      "text/plain": [
       "[2, 4, 6, 8, 10]"
      ]
     },
     "execution_count": 35,
     "metadata": {},
     "output_type": "execute_result"
    }
   ],
   "source": [
    "# Check if a given number is even.\n",
    "l = [1,2,3,4,5,6,7,8,9,10]\n",
    "l1 = filter(lambda x : x%2==0, l)\n",
    "list(l1)"
   ]
  },
  {
   "cell_type": "code",
   "execution_count": 36,
   "id": "b43d330b-dd10-4004-a75e-84835105527d",
   "metadata": {},
   "outputs": [
    {
     "data": {
      "text/plain": [
       "[1, 3, 5, 7, 9]"
      ]
     },
     "execution_count": 36,
     "metadata": {},
     "output_type": "execute_result"
    }
   ],
   "source": [
    "# Filter odd numbers from the given list. [1,2,3,4,5,6,7,8,9,10]\n",
    "l = [1,2,3,4,5,6,7,8,9,10]\n",
    "l1 = filter(lambda x : x%2!=0, l)\n",
    "list(l1)"
   ]
  },
  {
   "cell_type": "code",
   "execution_count": 37,
   "id": "af05d613-2348-46d9-93c6-255864fdeb72",
   "metadata": {},
   "outputs": [
    {
     "name": "stdout",
     "output_type": "stream",
     "text": [
      "Positive Integer List : [1, 2, 3, 4, 5, 6]\n",
      "Negative Integer List : [-1, -2, -3, -4, -5]\n"
     ]
    }
   ],
   "source": [
    "# Sort a list of integers into positive and negative integers lists. [1,2,3,4,5,6,-1,-2,-3,-4,-5,0]\n",
    "l=[1,2,3,4,5,6,-1,-2,-3,-4,-5,0]\n",
    "positive_l = filter(lambda x : x>=0, l)\n",
    "negative_l = filter(lambda x : x<0, l)\n",
    "print(f'Positive Integer List : {list(positive_l)}')\n",
    "print(f'Negative Integer List : {list(negative_l)}')"
   ]
  }
 ],
 "metadata": {
  "kernelspec": {
   "display_name": "Python 3 (ipykernel)",
   "language": "python",
   "name": "python3"
  },
  "language_info": {
   "codemirror_mode": {
    "name": "ipython",
    "version": 3
   },
   "file_extension": ".py",
   "mimetype": "text/x-python",
   "name": "python",
   "nbconvert_exporter": "python",
   "pygments_lexer": "ipython3",
   "version": "3.10.8"
  }
 },
 "nbformat": 4,
 "nbformat_minor": 5
}
