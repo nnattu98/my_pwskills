{
 "cells": [
  {
   "cell_type": "markdown",
   "id": "62cc5f75-f0f0-4359-9a8c-bdb38d88af49",
   "metadata": {},
   "source": [
    "### Q1. What are the characteristics of the tuples? Is tuple immutable?"
   ]
  },
  {
   "cell_type": "markdown",
   "id": "18a63638-237b-462f-8213-165357ae4b10",
   "metadata": {},
   "source": [
    "Below are few characteristics of Tuple :\n",
    "1. Tuples are used to store heterogeneous and homogeneous data.\n",
    "2. Tuples are immutable in nature.\n",
    "3. Tuples are ordered\n",
    "4. An index is used to traverse a tuple.\n",
    "5. Tuples are similar to lists. It also preserves the data sequence.\n",
    "\n",
    "Yes, tuples are immutable, and hence they are faster than the list because they are static."
   ]
  },
  {
   "cell_type": "markdown",
   "id": "818794bb-4d02-4995-bef6-6aad0dbb035f",
   "metadata": {},
   "source": [
    "### Q2. What are the two tuple methods in python ? Give an examle of each method. Give a reason why tuples have only two in-built methods as compared to Lists."
   ]
  },
  {
   "cell_type": "markdown",
   "id": "a3cdaff5-4450-45f6-8e1a-fa63458e5958",
   "metadata": {},
   "source": [
    "Two methods available in Python for tuple are as below.\n",
    "1. count()\n",
    "2. index()"
   ]
  },
  {
   "cell_type": "markdown",
   "id": "66faa39d-e8ed-4e42-8f19-393cc99d5b83",
   "metadata": {
    "tags": []
   },
   "source": [
    "examples : \n",
    "1. count()\n",
    "\n",
    "# Creating tuples\n",
    "t1 = (1, 2, 3, 2, 3, 1, 3, 2)\n",
    "t2 = ('python', 'for', 'java', 'python')\n",
    "  \n",
    "# count the appearance of 3\n",
    "res = t1.count(3)\n",
    "print('Count of 3 in t1 is:', res)\n",
    "  \n",
    "# count the appearance of python\n",
    "res = t2.count('python')\n",
    "print('Count of Python in t2 is:', res)\n",
    "\n",
    "\n",
    "\n",
    "2. index()\n",
    "\n",
    "# Creating tuples\n",
    "t1 = (1, 2, 3, 2, 3, 1, 3, 2)\n",
    "  \n",
    "# getting the index of 3\n",
    "res = t1.index(3)\n",
    "print('First occurrence of 3 is', res)\n",
    "  \n",
    "# getting the index of 3 after 4th\n",
    "# index\n",
    "res = t1.index(3, 4)\n",
    "print('First occurrence of 3 after 4th index is:', res)"
   ]
  },
  {
   "cell_type": "markdown",
   "id": "ef89a943-6001-47c7-af44-0ac16ba33057",
   "metadata": {},
   "source": [
    "Reason :-\n",
    "As explained above, tuples are immutable and the data i.e. contents in tuples are ordered.\n",
    "So, if you can not edit, add, update or do anything with the data or contents of tuple, there is no need to have any other methods, because there is no use of any other methods as are available in Lists.\n",
    "\n",
    "While lists are dynamic in nature and allows adding, removing and manipulation with data, so there are more methods and tuples have only 2 methods as detailed above."
   ]
  },
  {
   "cell_type": "markdown",
   "id": "de96ac35-61ff-48e3-b745-882ffa6b64ca",
   "metadata": {},
   "source": [
    "### Q3. Which collection data types in python do not allow duplicate items? Write a code using a set to remove duplicates from the given list."
   ]
  },
  {
   "cell_type": "markdown",
   "id": "6c796083-c465-4821-b76c-e22730ed661f",
   "metadata": {},
   "source": [
    "Set datatype in Python doesn't allow duplicate items."
   ]
  },
  {
   "cell_type": "code",
   "execution_count": 11,
   "id": "c44d28ac-4dc7-4866-9abb-c0b2d45caad4",
   "metadata": {},
   "outputs": [
    {
     "name": "stdout",
     "output_type": "stream",
     "text": [
      "{1, 2, 3, 4}\n"
     ]
    }
   ],
   "source": [
    "List = [1,1,1,2,1,3,1,4,2,1,2,2,2,3,2,4,3,1,3,2,3,3,3,4,4,1,4,2,4,3,4,4]\n",
    "s=set(List)\n",
    "print(s)"
   ]
  },
  {
   "cell_type": "markdown",
   "id": "e5c926d2-fed0-4fc1-9e1c-1e135d83989e",
   "metadata": {},
   "source": [
    "### Q4. Explain the difference between the union() and update() methods for a set. Give an example of each method."
   ]
  },
  {
   "cell_type": "markdown",
   "id": "7eb2c637-b73e-4136-9107-61dde970a287",
   "metadata": {},
   "source": [
    "'''\n",
    "Both set.update() and set.union() perform the union operation. However, set.update() adds all missing elements to the set on which it is called whereas set.union() creates a new set.\n",
    "Consequently, the return value of set.update() is None (with side effects) and the return value of set.union() is a set (without side effects). \n",
    "\n",
    "Example for update() :\n",
    "s = {1, 2, 3}\n",
    "s.update({4, 5})\n",
    "s\n",
    "{1, 2, 3, 4, 5}\n",
    "\n",
    "Example for union() :\n",
    "s = {1, 2, 3}\n",
    "s.union({4, 5})\n",
    "{1, 2, 3, 4, 5}\n",
    "'''"
   ]
  },
  {
   "cell_type": "markdown",
   "id": "33f35952-4f50-4dd0-ba22-6685d3f785f8",
   "metadata": {},
   "source": [
    "### Q5. What is a dictionary ? Give an example. Also, state whether a dictionary is ordered or unordered."
   ]
  },
  {
   "cell_type": "code",
   "execution_count": 12,
   "id": "c0fce099-e339-479c-828a-131caf49a030",
   "metadata": {},
   "outputs": [
    {
     "data": {
      "text/plain": [
       "'\\nDictionary is a datatype, that holds values in pairs i.e. key and value. \\n\\nd1 = {\\'name\\' : \\'Deepak\\', \\'language\\' : \\'English\\'}\\nAbove \"d1\" is a simple example of dictionary.\\n\\nAs of python version 3.7 dictionary is ordered, before that it used to be unordered.\\n'"
      ]
     },
     "execution_count": 12,
     "metadata": {},
     "output_type": "execute_result"
    }
   ],
   "source": [
    "'''\n",
    "Dictionary is a datatype, that holds values in pairs i.e. key and value. \n",
    "\n",
    "d1 = {'name' : 'Deepak', 'language' : 'English'}\n",
    "Above \"d1\" is a simple example of dictionary.\n",
    "\n",
    "As of python version 3.7 dictionary is ordered, before that it used to be unordered.\n",
    "'''"
   ]
  },
  {
   "cell_type": "markdown",
   "id": "e75c564f-d6ef-4328-b1bd-5122519163a8",
   "metadata": {},
   "source": [
    "### Q6. Can we create a nested dictionary? If so, please give an example by creating a simple one-level nested dictionary."
   ]
  },
  {
   "cell_type": "code",
   "execution_count": 15,
   "id": "ee1d9893-546c-4048-808d-92f928980736",
   "metadata": {},
   "outputs": [
    {
     "data": {
      "text/plain": [
       "{'child1': {'name': 'Emil', 'year': 2004},\n",
       " 'child2': {'name': 'Tobias', 'year': 2007},\n",
       " 'child3': {'name': 'Linus', 'year': 2011}}"
      ]
     },
     "execution_count": 15,
     "metadata": {},
     "output_type": "execute_result"
    }
   ],
   "source": [
    "# Yes, we can happily create a nested dictionary.\n",
    "\n",
    "# Example :\n",
    "\n",
    "d1 = {'child1' : {\"name\" : \"Emil\", \"year\" : 2004},\n",
    "    \"child2\" : {\"name\" : \"Tobias\", \"year\" : 2007},\n",
    "    \"child3\" : {\"name\" : \"Linus\",\"year\" : 2011}}\n",
    "d1"
   ]
  },
  {
   "cell_type": "markdown",
   "id": "6c922a16-7320-4d97-8e18-e716b7397fc6",
   "metadata": {},
   "source": [
    "### Q7. Using setdefault() method, create key named topics in the given dictionary and also add the value of the key as this list ['Python', 'Machine Learning', 'Deep Learning']\n",
    "#### dict1 = {'language':'Python','course':'Data Science Masters'}"
   ]
  },
  {
   "cell_type": "code",
   "execution_count": 16,
   "id": "2c2c89a5-8979-43d0-8932-c30b857a67b9",
   "metadata": {},
   "outputs": [],
   "source": [
    "dict1 = {'language' : 'Python', 'course' : 'Data Science Masters'}\n",
    "dict1.setdefault('topics', []).extend(['Python', 'Machine Learning', 'Deep Learning'])"
   ]
  },
  {
   "cell_type": "code",
   "execution_count": 17,
   "id": "31b2a4db-4196-4023-910e-7618b5c3c70c",
   "metadata": {},
   "outputs": [
    {
     "data": {
      "text/plain": [
       "{'language': 'Python',\n",
       " 'course': 'Data Science Masters',\n",
       " 'topics': ['Python', 'Machine Learning', 'Deep Learning']}"
      ]
     },
     "execution_count": 17,
     "metadata": {},
     "output_type": "execute_result"
    }
   ],
   "source": [
    "dict1"
   ]
  },
  {
   "cell_type": "markdown",
   "id": "15c08fd0-228d-4d84-9a95-1abeb59a200c",
   "metadata": {},
   "source": [
    "### Q8. What are the three view objects in dictionaries ? Use the three in-built methods in python to display these three view objects for the given dictionary.\n",
    "#### dict1 = {'Sport' : 'Cricket', 'Teams' : ['India', 'Australia', 'England', 'South Africa', 'Sri Lanka', 'New Zealand']}"
   ]
  },
  {
   "cell_type": "raw",
   "id": "49c51f10-8e4b-4922-92a9-00450943d7dd",
   "metadata": {},
   "source": [
    "The main view objects of dictionary in python are keys, values and items."
   ]
  },
  {
   "cell_type": "code",
   "execution_count": 18,
   "id": "488605cf-5304-47ff-8385-0beb70761603",
   "metadata": {},
   "outputs": [],
   "source": [
    "dict1 = {'Sport' : 'Cricket', 'Teams' : ['India', 'Australia', 'England', 'South Africa', 'Sri Lanka', 'New Zealand']}"
   ]
  },
  {
   "cell_type": "code",
   "execution_count": 19,
   "id": "87c7d107-ff79-44ca-875f-35d1517b4f7e",
   "metadata": {},
   "outputs": [
    {
     "data": {
      "text/plain": [
       "dict_keys(['Sport', 'Teams'])"
      ]
     },
     "execution_count": 19,
     "metadata": {},
     "output_type": "execute_result"
    }
   ],
   "source": [
    "dict1.keys()"
   ]
  },
  {
   "cell_type": "code",
   "execution_count": 20,
   "id": "4f78b580-a443-493b-846d-1f8986893f9d",
   "metadata": {},
   "outputs": [
    {
     "data": {
      "text/plain": [
       "dict_values(['Cricket', ['India', 'Australia', 'England', 'South Africa', 'Sri Lanka', 'New Zealand']])"
      ]
     },
     "execution_count": 20,
     "metadata": {},
     "output_type": "execute_result"
    }
   ],
   "source": [
    "dict1.values()"
   ]
  },
  {
   "cell_type": "code",
   "execution_count": 21,
   "id": "538db2f8-cc3c-45c6-8255-fa920183a335",
   "metadata": {},
   "outputs": [
    {
     "data": {
      "text/plain": [
       "dict_items([('Sport', 'Cricket'), ('Teams', ['India', 'Australia', 'England', 'South Africa', 'Sri Lanka', 'New Zealand'])])"
      ]
     },
     "execution_count": 21,
     "metadata": {},
     "output_type": "execute_result"
    }
   ],
   "source": [
    "dict1.items()"
   ]
  },
  {
   "cell_type": "code",
   "execution_count": null,
   "id": "82ad99be-639d-4592-8193-d6df31aa4835",
   "metadata": {},
   "outputs": [],
   "source": []
  }
 ],
 "metadata": {
  "kernelspec": {
   "display_name": "Python 3 (ipykernel)",
   "language": "python",
   "name": "python3"
  },
  "language_info": {
   "codemirror_mode": {
    "name": "ipython",
    "version": 3
   },
   "file_extension": ".py",
   "mimetype": "text/x-python",
   "name": "python",
   "nbconvert_exporter": "python",
   "pygments_lexer": "ipython3",
   "version": "3.10.8"
  }
 },
 "nbformat": 4,
 "nbformat_minor": 5
}
