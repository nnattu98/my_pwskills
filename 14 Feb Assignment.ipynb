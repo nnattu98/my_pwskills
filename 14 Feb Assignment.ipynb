{
 "cells": [
  {
   "cell_type": "markdown",
   "id": "e4b5fff4-2af1-4daf-a20c-643282d59171",
   "metadata": {},
   "source": [
    "#### Q1. What is multithreading in Python? Why is it used? Name the module used to handle threads in python."
   ]
  },
  {
   "cell_type": "markdown",
   "id": "32d86f99-b2cf-46e9-80ae-4088e6bedae2",
   "metadata": {},
   "source": [
    "Answer :\n",
    "\n",
    "Multithreading in Python refers to the concurrent execution of multiple threads within a single process. A thread is a lightweight subprocess that can be scheduled to run independently of the main program. Multithreading allows a program to perform multiple tasks simultaneously, which can lead to significant performance improvements in some cases.\n",
    "\n",
    "In Python, multithreading is often used to improve the responsiveness of graphical user interfaces (GUIs), to perform background tasks while the main program is running, and to speed up certain types of operations that can be parallelized.\n",
    "\n",
    "In Python, the module that is used to handle threads is called threading."
   ]
  },
  {
   "cell_type": "markdown",
   "id": "59582c7a-b126-4d7f-969e-870693ca751f",
   "metadata": {},
   "source": [
    "#### Q2. Why threading module is used? Write the use of the following functions :\n",
    "\n",
    "1. activeCount()\n",
    "2. currentThread()\n",
    "3. enumerate()"
   ]
  },
  {
   "cell_type": "markdown",
   "id": "31eb892c-594f-4fcd-a5cf-f89e1dfffbb9",
   "metadata": {},
   "source": [
    "#### Answer :\n",
    "\n",
    "The threading module in Python is used for creating and managing threads in a program. It provides a high-level interface for creating, starting, and joining threads, as well as for synchronizing access to shared resources.\n",
    "\n",
    "1. activeCount(): This function returns the number of currently active thread objects in the program. It can be used to monitor the number of threads in a program and to ensure that the program is not creating too many threads.\n",
    "\n",
    "2. currentThread(): This function returns a reference to the currently executing thread object. It can be used to identify the current thread and to access information about the thread, such as its name and ID.\n",
    "\n",
    "3. enumerate(): This function returns a list of all thread objects that are currently active in the program. It can be used to obtain a snapshot of the current state of the program's threads and to iterate over the thread objects to perform operations on them, such as joining or terminating them."
   ]
  },
  {
   "cell_type": "markdown",
   "id": "a494aa94-c7e6-40fc-a5db-f44be9469486",
   "metadata": {},
   "source": [
    "#### Q3. Explain the following functions:\n",
    "\n",
    "1. run()\n",
    "2. start()\n",
    "3. join()\n",
    "4. isAlive()"
   ]
  },
  {
   "cell_type": "markdown",
   "id": "996d05df-3fd5-44e5-a000-ed5f7e8f64ef",
   "metadata": {},
   "source": [
    "### Answer :\n",
    "\n",
    "1. run(): This is a method that is called when a thread is started using the start() method. It is used to define the actions that the thread should perform when it is started. The run() method is typically overridden in a subclass of the Thread class to define the specific behavior of the thread.\n",
    "\n",
    "2. start(): This method is used to start a new thread of execution. When the start() method is called, a new thread is created and the run() method of the thread is executed in a separate process. The start() method does not block the calling thread; instead, it returns immediately, allowing the caller to continue executing.\n",
    "\n",
    "3. join(): This method is used to wait for a thread to finish its execution. When the join() method is called on a thread object, the calling thread blocks until the thread being joined completes its execution. The join() method can be used to ensure that all threads complete their execution before the program exits.\n",
    "\n",
    "4. isAlive(): This method returns a Boolean value indicating whether a thread is currently executing or not. If the thread is still running, isAlive() returns True; otherwise, it returns False. This method can be used to determine the status of a thread and to take appropriate actions based on its state"
   ]
  },
  {
   "cell_type": "markdown",
   "id": "485e02dd-7b0b-4279-a1fa-41e228b50b56",
   "metadata": {},
   "source": [
    "#### Q4. Write a Python program to create two threads. Thread one must print the list of squares and thread two must print the list of cubes."
   ]
  },
  {
   "cell_type": "code",
   "execution_count": 3,
   "id": "24ba4e45-48ad-46db-9ac2-0dc5c5e731b0",
   "metadata": {},
   "outputs": [
    {
     "name": "stdout",
     "output_type": "stream",
     "text": [
      "[4, 9, 25, 36, 16, 9, 25, 49]\n",
      "[8, 27, 125, 216, 64, 27, 125, 343]\n"
     ]
    }
   ],
   "source": [
    "import threading\n",
    "\n",
    "results1 = []\n",
    "results2 = []\n",
    "#squares function\n",
    "def squares(number):\n",
    "    results1.append(number**2)\n",
    "\n",
    "#cubes function\n",
    "def cubes(number):\n",
    "    results2.append(number**3)\n",
    "\n",
    "#threads function\n",
    "def threads(numbers_list, squares):\n",
    "    threads=[]\n",
    "    for i in range(len(numbers_list)):\n",
    "        t=threading.Thread(target = squares, args =(numbers_list[i],))\n",
    "        threads.append(t)\n",
    "        t.start()\n",
    "\n",
    "#main\n",
    "numbers_list=[2,3,5,6,4,3,5,7]\n",
    "thread1 = threads(numbers_list,squares)\n",
    "thread2 = threads(numbers_list,cubes)\n",
    "print(results1)\n",
    "print(results2)"
   ]
  },
  {
   "cell_type": "markdown",
   "id": "d3b6db58-9643-4fc4-bcf5-4ecc0085f630",
   "metadata": {},
   "source": [
    "#### Q5. State advantages and disadvantages of multithreading."
   ]
  },
  {
   "cell_type": "markdown",
   "id": "e23f6434-4b58-44d6-97dd-ff177c7f8433",
   "metadata": {},
   "source": [
    "#### Answer :\n",
    "\n",
    "#### Advantages:\n",
    "1. Increased performance: Multithreading can lead to significant performance improvements for programs that perform many independent tasks, as it allows different parts of the program to execute simultaneously on different CPU cores.\n",
    "2. Responsiveness: Multithreading can make programs more responsive, as it allows them to continue executing while waiting for I/O or other blocking operations to complete.\n",
    "3. Resource sharing: Multithreading allows multiple threads to access shared resources, such as files or databases, without requiring complex coordination mechanisms.\n",
    "4. Modular design: Multithreading can make programs easier to design and implement by allowing different parts of the program to be executed in separate threads, making the program more modular and easier to maintain.\n",
    "\n",
    "#### Disadvantages:\n",
    "1. Synchronization issues: Multithreading requires careful management of shared resources to avoid race conditions and other synchronization issues that can lead to errors or incorrect behavior.\n",
    "2. Complexity: Multithreading can make programs more complex and harder to debug, as it introduces new sources of bugs and errors related to thread synchronization and communication.\n",
    "3. Overhead: Creating and managing threads requires additional resources, such as memory and CPU time, which can reduce the overall performance of the program if not managed carefully.\n",
    "4. Scalability issues: The benefits of multithreading may not scale linearly with the number of CPU cores available, as adding more threads may lead to diminishing returns or even reduce performance in some cases."
   ]
  },
  {
   "cell_type": "markdown",
   "id": "9a2916c9-bd71-4bf5-961c-cb21ef9e24dd",
   "metadata": {},
   "source": [
    "#### Q6. Explain Deadlocks and Race Conditions."
   ]
  },
  {
   "cell_type": "markdown",
   "id": "1ca51c81-4782-4f5b-be59-d3b88d162dbc",
   "metadata": {},
   "source": [
    "#### Answer:\n",
    "##### Deadlock:\n",
    "A deadlock is a situation in which two or more threads are waiting for each other to release resources, resulting in a state where no thread can proceed. This can occur when two or more threads hold resources that the other thread needs to continue execution, resulting in a deadlock. Deadlocks can be difficult to detect and resolve, as they can involve complex interactions between threads and shared resources.\n",
    "\n",
    "##### Race Condition:\n",
    "A race condition is a situation in which the outcome of a program depends on the order and timing of thread execution. Race conditions can occur when two or more threads access shared resources or modify shared data in an uncoordinated manner. This can lead to incorrect behavior or crashes, as the threads may overwrite each other's changes or make incorrect assumptions about the state of shared resources."
   ]
  },
  {
   "cell_type": "code",
   "execution_count": null,
   "id": "309d5a92-28b4-4571-8f43-e9847059793b",
   "metadata": {},
   "outputs": [],
   "source": []
  }
 ],
 "metadata": {
  "kernelspec": {
   "display_name": "Python 3 (ipykernel)",
   "language": "python",
   "name": "python3"
  },
  "language_info": {
   "codemirror_mode": {
    "name": "ipython",
    "version": 3
   },
   "file_extension": ".py",
   "mimetype": "text/x-python",
   "name": "python",
   "nbconvert_exporter": "python",
   "pygments_lexer": "ipython3",
   "version": "3.10.8"
  }
 },
 "nbformat": 4,
 "nbformat_minor": 5
}
