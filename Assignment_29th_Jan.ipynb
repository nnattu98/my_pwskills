{
 "cells": [
  {
   "cell_type": "markdown",
   "id": "25e8cfac-02b4-4871-9ba8-336c54163a1a",
   "metadata": {
    "tags": []
   },
   "source": [
    "### Who developed Python Programming Language ?"
   ]
  },
  {
   "cell_type": "raw",
   "id": "46a71f57-9ca4-407c-a376-c624acabae7c",
   "metadata": {},
   "source": [
    "Guido van Rossum"
   ]
  },
  {
   "cell_type": "markdown",
   "id": "cb17f072-af41-4aec-b116-cad535f2ee5e",
   "metadata": {},
   "source": [
    "### Which type of Programming does Python support ?"
   ]
  },
  {
   "cell_type": "raw",
   "id": "bbc4c317-06a3-4cb8-830c-3f650305bf0a",
   "metadata": {},
   "source": [
    "Python is an interpreted programming language that supports object-oriented, structured, and functional programming."
   ]
  },
  {
   "cell_type": "markdown",
   "id": "a2ccd221-3f6e-4a19-9d75-1e11a733bb1f",
   "metadata": {},
   "source": [
    "Is Python case sensitive when dealing with identifiers ?"
   ]
  },
  {
   "cell_type": "raw",
   "id": "1ff9d00b-fd2e-4188-b5ea-a2c8a75b6ff2",
   "metadata": {},
   "source": [
    "Yes"
   ]
  },
  {
   "cell_type": "markdown",
   "id": "2fc67f79-79b0-453b-b326-be6f090e95e8",
   "metadata": {},
   "source": [
    "What is the correct extension of the Python file ?"
   ]
  },
  {
   "cell_type": "raw",
   "id": "1e25285b-f6ec-4276-be47-08769bc1fe4d",
   "metadata": {},
   "source": [
    ".py"
   ]
  },
  {
   "cell_type": "markdown",
   "id": "76772e87-5376-4cbd-8656-020a0fa2cb4a",
   "metadata": {},
   "source": [
    "Is Python code compiled or interpreted ?"
   ]
  },
  {
   "cell_type": "raw",
   "id": "cf4a04ba-8cca-4add-9527-4a9101293fb2",
   "metadata": {},
   "source": [
    "interreted"
   ]
  },
  {
   "cell_type": "markdown",
   "id": "c6225537-79a0-44ea-9246-e45c44f4756f",
   "metadata": {},
   "source": [
    "Name a few blocks of code used to define in Python Language ?"
   ]
  },
  {
   "cell_type": "raw",
   "id": "62c90505-2f9f-48fa-8d3a-39b2f0cf8238",
   "metadata": {},
   "source": [
    "A module, A Function Body, and A Class definition"
   ]
  },
  {
   "cell_type": "markdown",
   "id": "c8d29fc7-3c82-479a-bdea-f627d236d6e8",
   "metadata": {},
   "source": [
    "State a character used to give single-line comments in Python ?"
   ]
  },
  {
   "cell_type": "raw",
   "id": "25f4972c-efb7-4b9c-bf4c-ab43e48a79d7",
   "metadata": {},
   "source": [
    "#"
   ]
  },
  {
   "cell_type": "markdown",
   "id": "3511a8a9-1a5d-420f-b77e-b2a925131474",
   "metadata": {},
   "source": [
    "Mention functions which can help us to find the version of python that we are currently working on?"
   ]
  },
  {
   "cell_type": "raw",
   "id": "ae774ba2-9d83-4054-bdab-0d575b1edf79",
   "metadata": {},
   "source": [
    "1. \"python --version\"\n",
    "2. To view the Python 3 version directly, we can use \"Python3 --version\""
   ]
  },
  {
   "cell_type": "markdown",
   "id": "20c8c25b-98e9-4106-a133-8c0dc7596582",
   "metadata": {},
   "source": [
    "### Python supports the creation of anonymous functions at runtime, using a construct called"
   ]
  },
  {
   "cell_type": "raw",
   "id": "5324be8c-751f-46a3-9dc7-b39b616e0aa6",
   "metadata": {},
   "source": [
    "lambda"
   ]
  },
  {
   "cell_type": "markdown",
   "id": "06f17ad9-3425-4d8d-ba29-158b61809e3d",
   "metadata": {},
   "source": [
    "### What does pip stand for python ?"
   ]
  },
  {
   "cell_type": "raw",
   "id": "b435796d-f4c7-437d-8c0d-0d6f0d6f0ba3",
   "metadata": {},
   "source": [
    "preferred installer program"
   ]
  },
  {
   "cell_type": "markdown",
   "id": "cff556e8-cd2d-4e67-b806-9d028c9c9a8c",
   "metadata": {},
   "source": [
    "### Mention a few built-in functions in Python ?"
   ]
  },
  {
   "cell_type": "raw",
   "id": "04859c0b-a2a3-4ce0-b49a-deeab0df40c4",
   "metadata": {},
   "source": [
    "print( )\n",
    "type( )\n",
    "input( )\n",
    "sorted()\n",
    "max()"
   ]
  },
  {
   "cell_type": "markdown",
   "id": "a73da688-459c-4e38-8f5e-c9f52ab284cc",
   "metadata": {},
   "source": [
    "### What is the maximum possible length of an identifier in Python ?"
   ]
  },
  {
   "cell_type": "raw",
   "id": "35c7948c-78fa-442d-ad55-ce1dd46c9df1",
   "metadata": {},
   "source": [
    "79 Characters"
   ]
  },
  {
   "cell_type": "markdown",
   "id": "2f6bfb10-9605-4e3b-8c82-0cea1dada87f",
   "metadata": {},
   "source": [
    "### What are the benefits of using Python?"
   ]
  },
  {
   "cell_type": "raw",
   "id": "99bee8fe-6a90-4315-96d0-e6f418c429ba",
   "metadata": {},
   "source": [
    "Python is good for developing websites & software, automation tasks, data analysis, data visualization and artificial inteligence, machine learning etc."
   ]
  },
  {
   "cell_type": "markdown",
   "id": "2f8e36cb-2343-4318-8f82-5b07411b6f55",
   "metadata": {},
   "source": [
    "### How is memory managed in Python ?"
   ]
  },
  {
   "cell_type": "raw",
   "id": "23c87c49-5c00-47e4-a9a3-20b46e435020",
   "metadata": {},
   "source": [
    "Memory in Python is managed by Python private heap space. All Python objects and data structures are located in a private heap. This private heap is taken care of by Python Interpreter itself, and a programmer doesn't have access to this private heap."
   ]
  },
  {
   "cell_type": "markdown",
   "id": "31c95149-9200-45c6-9df4-74bb6170ce8b",
   "metadata": {
    "tags": []
   },
   "source": [
    "### How to install Python on Windows and set path variables?"
   ]
  },
  {
   "cell_type": "raw",
   "id": "dfef4122-5085-47c8-9bfd-6dc29c4e2106",
   "metadata": {},
   "source": [
    "You can easily add Python to Windows path by downloading a latest version of Python, and then checking the box to \"Add Python to PATH\" at the bottom of the setup screen.\n",
    "\n",
    "Once the installation is finished, all good to go."
   ]
  },
  {
   "cell_type": "markdown",
   "id": "c4872406-7497-4764-83a5-8f5d9116e1f7",
   "metadata": {},
   "source": [
    "### Is identation required in Python ?"
   ]
  },
  {
   "cell_type": "raw",
   "id": "a41f86ed-bcb7-4ce0-857e-5587a99c7457",
   "metadata": {},
   "source": [
    "Yes"
   ]
  }
 ],
 "metadata": {
  "kernelspec": {
   "display_name": "Python 3 (ipykernel)",
   "language": "python",
   "name": "python3"
  },
  "language_info": {
   "codemirror_mode": {
    "name": "ipython",
    "version": 3
   },
   "file_extension": ".py",
   "mimetype": "text/x-python",
   "name": "python",
   "nbconvert_exporter": "python",
   "pygments_lexer": "ipython3",
   "version": "3.10.8"
  }
 },
 "nbformat": 4,
 "nbformat_minor": 5
}
