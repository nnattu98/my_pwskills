{
 "cells": [
  {
   "cell_type": "markdown",
   "id": "25e8cfac-02b4-4871-9ba8-336c54163a1a",
   "metadata": {
    "tags": []
   },
   "source": [
    "### Who developed Python Programming Language ?"
   ]
  },
  {
   "cell_type": "markdown",
   "id": "93bf12e5-a68f-423b-bd41-b45702652fdb",
   "metadata": {},
   "source": [
    "#### Guido van Rossum"
   ]
  },
  {
   "cell_type": "markdown",
   "id": "cb17f072-af41-4aec-b116-cad535f2ee5e",
   "metadata": {},
   "source": [
    "### Which type of Programming does Python support ?"
   ]
  },
  {
   "cell_type": "markdown",
   "id": "a8ad0cce-db87-4170-b921-cf17bf8e4ccd",
   "metadata": {},
   "source": [
    "#### Python is an interpreted programming language that supports object-oriented, structured, and functional programming."
   ]
  },
  {
   "cell_type": "markdown",
   "id": "a2ccd221-3f6e-4a19-9d75-1e11a733bb1f",
   "metadata": {},
   "source": [
    "### Is Python case sensitive when dealing with identifiers ?"
   ]
  },
  {
   "cell_type": "markdown",
   "id": "f09c562e-b0eb-4212-b4d0-5403ee9f6a15",
   "metadata": {},
   "source": [
    "#### Yes"
   ]
  },
  {
   "cell_type": "markdown",
   "id": "2fc67f79-79b0-453b-b326-be6f090e95e8",
   "metadata": {},
   "source": [
    "### What is the correct extension of the Python file ?"
   ]
  },
  {
   "cell_type": "markdown",
   "id": "0aa241a6-64b5-4c7b-ab7d-c1f2ee8a6d62",
   "metadata": {},
   "source": [
    "#### .py"
   ]
  },
  {
   "cell_type": "markdown",
   "id": "76772e87-5376-4cbd-8656-020a0fa2cb4a",
   "metadata": {},
   "source": [
    "### Is Python code compiled or interpreted ?"
   ]
  },
  {
   "cell_type": "markdown",
   "id": "4c9947c0-9eba-4472-9ef9-b87a9220c15f",
   "metadata": {},
   "source": [
    "#### interpreted"
   ]
  },
  {
   "cell_type": "markdown",
   "id": "c6225537-79a0-44ea-9246-e45c44f4756f",
   "metadata": {},
   "source": [
    "### Name a few blocks of code used to define in Python Language ?"
   ]
  },
  {
   "cell_type": "markdown",
   "id": "a1129c72-77ac-4d56-b2e2-c5bbf6b2be5c",
   "metadata": {},
   "source": [
    "### A module, A Function Body, and A Class definition"
   ]
  },
  {
   "cell_type": "markdown",
   "id": "c8d29fc7-3c82-479a-bdea-f627d236d6e8",
   "metadata": {},
   "source": [
    "### State a character used to give single-line comments in Python ?"
   ]
  },
  {
   "cell_type": "markdown",
   "id": "33a3e6b9-54df-4cb5-a1a0-181d1145e874",
   "metadata": {},
   "source": [
    "#### \"#\""
   ]
  },
  {
   "cell_type": "markdown",
   "id": "3511a8a9-1a5d-420f-b77e-b2a925131474",
   "metadata": {},
   "source": [
    "### Mention functions which can help us to find the version of python that we are currently working on?"
   ]
  },
  {
   "cell_type": "markdown",
   "id": "8e5cb9fe-cb16-466b-ada0-db1c84046f9a",
   "metadata": {},
   "source": [
    "1. \"python --version\"\n",
    "2. To view the Python 3 version directly, we can use \"Python3 --version\""
   ]
  },
  {
   "cell_type": "markdown",
   "id": "20c8c25b-98e9-4106-a133-8c0dc7596582",
   "metadata": {},
   "source": [
    "### Python supports the creation of anonymous functions at runtime, using a construct called"
   ]
  },
  {
   "cell_type": "markdown",
   "id": "70ebd5aa-537d-47ee-92c2-1dd0db8a3120",
   "metadata": {},
   "source": [
    "lambda"
   ]
  },
  {
   "cell_type": "markdown",
   "id": "06f17ad9-3425-4d8d-ba29-158b61809e3d",
   "metadata": {},
   "source": [
    "### What does pip stand for python ?"
   ]
  },
  {
   "cell_type": "markdown",
   "id": "33966bff-a4d0-4adb-9535-adb7f79ea694",
   "metadata": {},
   "source": [
    "preferred installer program"
   ]
  },
  {
   "cell_type": "markdown",
   "id": "cff556e8-cd2d-4e67-b806-9d028c9c9a8c",
   "metadata": {},
   "source": [
    "### Mention a few built-in functions in Python ?"
   ]
  },
  {
   "cell_type": "markdown",
   "id": "67c0ce5a-1c97-488e-b4f7-115b5ad5e29e",
   "metadata": {},
   "source": [
    "print( )\n",
    "type( )\n",
    "input( )\n",
    "sorted()\n",
    "max()"
   ]
  },
  {
   "cell_type": "markdown",
   "id": "a73da688-459c-4e38-8f5e-c9f52ab284cc",
   "metadata": {},
   "source": [
    "### What is the maximum possible length of an identifier in Python ?"
   ]
  },
  {
   "cell_type": "markdown",
   "id": "4ae5642c-9c8e-4ae3-b340-0adb1b795043",
   "metadata": {},
   "source": [
    "79 Characters"
   ]
  },
  {
   "cell_type": "markdown",
   "id": "2f6bfb10-9605-4e3b-8c82-0cea1dada87f",
   "metadata": {},
   "source": [
    "### What are the benefits of using Python?"
   ]
  },
  {
   "cell_type": "markdown",
   "id": "5068e882-033f-4a66-8e19-c6a56077d647",
   "metadata": {},
   "source": [
    "Python is good for developing websites & software, automation tasks, data analysis, data visualization and artificial inteligence, machine learning etc."
   ]
  },
  {
   "cell_type": "markdown",
   "id": "2f8e36cb-2343-4318-8f82-5b07411b6f55",
   "metadata": {},
   "source": [
    "### How is memory managed in Python ?"
   ]
  },
  {
   "cell_type": "markdown",
   "id": "44b16079-ff71-4f46-b0c3-05d3219e6e49",
   "metadata": {},
   "source": [
    "Memory in Python is managed by Python private heap space. All Python objects and data structures are located in a private heap. This private heap is taken care of by Python Interpreter itself, and a programmer doesn't have access to this private heap."
   ]
  },
  {
   "cell_type": "markdown",
   "id": "31c95149-9200-45c6-9df4-74bb6170ce8b",
   "metadata": {
    "tags": []
   },
   "source": [
    "### How to install Python on Windows and set path variables?"
   ]
  },
  {
   "cell_type": "markdown",
   "id": "73f78dd2-8bf0-4405-87d5-23e3c5ddbe39",
   "metadata": {},
   "source": [
    "You can easily add Python to Windows path by downloading a latest version of Python, and then checking the box to \"Add Python to PATH\" at the bottom of the setup screen.\n",
    "\n",
    "Once the installation is finished, all good to go."
   ]
  },
  {
   "cell_type": "markdown",
   "id": "c4872406-7497-4764-83a5-8f5d9116e1f7",
   "metadata": {},
   "source": [
    "### Is identation required in Python ?"
   ]
  },
  {
   "cell_type": "markdown",
   "id": "18440e3b-58c8-413e-882f-91e257b9ad2f",
   "metadata": {},
   "source": [
    "Yes"
   ]
  }
 ],
 "metadata": {
  "kernelspec": {
   "display_name": "Python 3 (ipykernel)",
   "language": "python",
   "name": "python3"
  },
  "language_info": {
   "codemirror_mode": {
    "name": "ipython",
    "version": 3
   },
   "file_extension": ".py",
   "mimetype": "text/x-python",
   "name": "python",
   "nbconvert_exporter": "python",
   "pygments_lexer": "ipython3",
   "version": "3.10.8"
  }
 },
 "nbformat": 4,
 "nbformat_minor": 5
}
