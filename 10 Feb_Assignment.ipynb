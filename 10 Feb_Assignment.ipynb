{
 "cells": [
  {
   "cell_type": "markdown",
   "id": "ce3ae17b-b187-4196-844f-06248d0cdd67",
   "metadata": {},
   "source": [
    "#### Q1. Which function is used to open a file ? What are the different modes of opening a file ? Explain each mode of file opening."
   ]
  },
  {
   "cell_type": "markdown",
   "id": "4d52995e-41af-4b40-bcab-82cc795a3404",
   "metadata": {},
   "source": [
    "#### The open() function is used to open a file. The function takes two parameters; filename, and mode.\n",
    "\n",
    "1. Read Only (‘r’) : Open text file for reading. The handle is positioned at the beginning of the file. If the file does not exists, raises the I/O error. This is also the default mode in which a file is opened.\n",
    "2. Read and Write (‘r+’): Open the file for reading and writing. The handle is positioned at the beginning of the file. Raises I/O error if the file does not exist.\n",
    "3. Write Only (‘w’) : Open the file for writing. For the existing files, the data is truncated and over-written. The handle is positioned at the beginning of the file. Creates the file if the file does not exist.\n",
    "4. Write and Read (‘w+’) : Open the file for reading and writing. For an existing file, data is truncated and over-written. The handle is positioned at the beginning of the file.\n",
    "5. Append Only (‘a’): Open the file for writing. The file is created if it does not exist. The handle is positioned at the end of the file. The data being written will be inserted at the end, after the existing data.\n",
    "6. Append and Read (‘a+’) : Open the file for reading and writing. The file is created if it does not exist. The handle is positioned at the end of the file. The data being written will be inserted at the end, after the existing data."
   ]
  },
  {
   "cell_type": "markdown",
   "id": "e6893c28-c87f-464a-8e6d-cc2ba22fa691",
   "metadata": {},
   "source": [
    "#### Q2. Why close() function is used ? Why is it important to close a file ?"
   ]
  },
  {
   "cell_type": "markdown",
   "id": "397acce7-f174-42b1-b094-ca6eafae5a4c",
   "metadata": {},
   "source": [
    "##### The close() method closes an open file. \n",
    "##### You should always close your files, in some cases, due to buffering, changes made to a file may not show until you close the file."
   ]
  },
  {
   "cell_type": "markdown",
   "id": "a53fc99f-d225-42f6-ab3a-ca21d975674b",
   "metadata": {},
   "source": [
    "#### Q3. Write a python program to create a text file. Write 'I want to become Data Scientist' in that file. Then close the file. Open this file and read the content of the file."
   ]
  },
  {
   "cell_type": "code",
   "execution_count": 8,
   "id": "bec1a058-c9f7-4dd2-8123-a1d5a7945757",
   "metadata": {},
   "outputs": [],
   "source": [
    "# Create a file and write the content.\n",
    "\n",
    "f = open('test.txt', 'w')\n",
    "f.write('I want to become Data Scientist')\n",
    "f.close()"
   ]
  },
  {
   "cell_type": "code",
   "execution_count": 9,
   "id": "382e814e-c06b-4d7b-8ab3-6d9b7d352a92",
   "metadata": {},
   "outputs": [
    {
     "data": {
      "text/plain": [
       "'I want to become Data Scientist'"
      ]
     },
     "execution_count": 9,
     "metadata": {},
     "output_type": "execute_result"
    }
   ],
   "source": [
    "# open the file and read the content.\n",
    "f1 = open('test.txt', 'r')\n",
    "f1.read()"
   ]
  },
  {
   "cell_type": "markdown",
   "id": "64639a45-4514-4e5c-82c0-87fb94e8cd38",
   "metadata": {},
   "source": [
    "#### Q4. Explain the following with python code: read(), readline() and readlines()."
   ]
  },
  {
   "cell_type": "markdown",
   "id": "8943a45d-3f44-4f25-8697-d28239527505",
   "metadata": {},
   "source": [
    "####  There are three ways to read data from a text file.\n",
    "1. read() : Returns the read bytes in form of a string. Reads n bytes, if no n specified, reads the entire file.\n",
    "2. readline() : Reads a line of the file and returns in form of a string.For specified n, reads at most n bytes. However, does not reads more than one line, even if n exceeds the length of the line.\n",
    "3. readlines() : Reads all the lines and return them as each line a string element in a list."
   ]
  },
  {
   "cell_type": "code",
   "execution_count": 10,
   "id": "43e73adb-d879-4549-bf56-6ebf0c39f775",
   "metadata": {},
   "outputs": [
    {
     "name": "stdout",
     "output_type": "stream",
     "text": [
      "Output of Read function is \n",
      "Hello \n",
      "This is Delhi \n",
      "This is Paris \n",
      "This is London \n",
      "\n",
      "\n",
      "Output of Readline function is \n",
      "Hello \n",
      "\n",
      "\n",
      "Output of Read(9) function is \n",
      "Hello \n",
      "Th\n",
      "\n",
      "Output of Readline(9) function is \n",
      "Hello \n",
      "\n",
      "\n",
      "Output of Readlines function is \n",
      "['Hello \\n', 'This is Delhi \\n', 'This is Paris \\n', 'This is London \\n']\n",
      "\n"
     ]
    }
   ],
   "source": [
    "# Program to show various ways to\n",
    "# read data from a file.\n",
    "\n",
    "# Creating a file\n",
    "file1 = open(\"test1.txt\", \"w\")\n",
    "L = [\"This is Delhi \\n\", \"This is Paris \\n\", \"This is London \\n\"]\n",
    "\n",
    "# Writing data to a file\n",
    "file1.write(\"Hello \\n\")\n",
    "file1.writelines(L)\n",
    "file1.close() # to change file access modes\n",
    "\n",
    "file1 = open(\"test1.txt\", \"r+\")\n",
    "\n",
    "print(\"Output of Read function is \")\n",
    "print(file1.read())\n",
    "print()\n",
    "\n",
    "# seek(n) takes the file handle to the nth\n",
    "# byte from the beginning.\n",
    "file1.seek(0)\n",
    "\n",
    "print(\"Output of Readline function is \")\n",
    "print(file1.readline())\n",
    "print()\n",
    "\n",
    "file1.seek(0)\n",
    "\n",
    "# To show difference between read and readline\n",
    "print(\"Output of Read(9) function is \")\n",
    "print(file1.read(9))\n",
    "print()\n",
    "\n",
    "file1.seek(0)\n",
    "\n",
    "print(\"Output of Readline(9) function is \")\n",
    "print(file1.readline(9))\n",
    "print()\n",
    "\n",
    "file1.seek(0)\n",
    "\n",
    "# readlines function\n",
    "print(\"Output of Readlines function is \")\n",
    "print(file1.readlines())\n",
    "print()\n",
    "file1.close()"
   ]
  },
  {
   "cell_type": "markdown",
   "id": "0b194ce4-521e-4e27-bd86-f44f30079011",
   "metadata": {},
   "source": [
    "#### Q5. Explain why with statement is used with open() What is the advantage of using with statement and open() together ?"
   ]
  },
  {
   "cell_type": "markdown",
   "id": "814531d7-7613-48cc-99d2-3865ea4335ab",
   "metadata": {},
   "source": [
    "##### No need to explicitly close the opened file, “with statement” takes care of that. When with the block ends, it will automatically close the file. So, it reduces the number of lines of code and reduces the chances of bug."
   ]
  },
  {
   "cell_type": "markdown",
   "id": "52d69020-d2e9-4ae1-a91f-6679a43d1ce0",
   "metadata": {},
   "source": [
    "#### Q6. Explain the write() and writelines() functions. Give a suitable example."
   ]
  },
  {
   "cell_type": "markdown",
   "id": "9cb13919-643c-4b89-9227-189c56391686",
   "metadata": {},
   "source": [
    "##### write() function\n",
    "The write() function will write the content in the file without adding any extra characters.\n",
    "\n",
    "##### writelines() function\n",
    "This function writes the content of a list to a file."
   ]
  },
  {
   "cell_type": "code",
   "execution_count": 11,
   "id": "44d71d25-90aa-4d96-87c9-e00314bb7486",
   "metadata": {},
   "outputs": [
    {
     "name": "stdin",
     "output_type": "stream",
     "text": [
      "Enter the name of the employee:  DS\n",
      "Enter the name of the employee:  NS\n",
      "Enter the name of the employee:  PS\n"
     ]
    },
    {
     "name": "stdout",
     "output_type": "stream",
     "text": [
      "Data is written into the file.\n"
     ]
    }
   ],
   "source": [
    "file = open(\"Employees.txt\", \"w\")\n",
    "  \n",
    "for i in range(3):\n",
    "   name = input(\"Enter the name of the employee: \")\n",
    "   file.write(name)\n",
    "   file.write(\"\\n\")\n",
    "     \n",
    "file.close()\n",
    "  \n",
    "print(\"Data is written into the file.\")"
   ]
  },
  {
   "cell_type": "code",
   "execution_count": null,
   "id": "b5bf5323-3cb3-4139-aca4-5603078db05b",
   "metadata": {},
   "outputs": [],
   "source": []
  }
 ],
 "metadata": {
  "kernelspec": {
   "display_name": "Python 3 (ipykernel)",
   "language": "python",
   "name": "python3"
  },
  "language_info": {
   "codemirror_mode": {
    "name": "ipython",
    "version": 3
   },
   "file_extension": ".py",
   "mimetype": "text/x-python",
   "name": "python",
   "nbconvert_exporter": "python",
   "pygments_lexer": "ipython3",
   "version": "3.10.8"
  }
 },
 "nbformat": 4,
 "nbformat_minor": 5
}
