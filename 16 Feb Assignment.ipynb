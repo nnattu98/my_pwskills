{
 "cells": [
  {
   "cell_type": "markdown",
   "id": "4497443f-5c0c-459f-b469-ae651a02208b",
   "metadata": {},
   "source": [
    "### Q1. What is a database ? Differentiate between SQL and NoSQL databases."
   ]
  },
  {
   "cell_type": "markdown",
   "id": "8db8946a-3093-4fc1-80f6-98a6237f26c5",
   "metadata": {},
   "source": [
    "#### Answer :\n",
    "\n",
    "#### Database: \n",
    "A database is a software application that allows you to store, organize, and retrieve data. It is a structured collection of data that can be accessed, managed, and updated in various ways. Databases are essential for managing and processing large volumes of data in various industries, such as finance, healthcare, e-commerce, and more.\n",
    "\n",
    "SQL (Structured Query Language) and NoSQL (Not Only SQL) are two different types of databases.\n",
    "\n",
    "#### SQL Databases: \n",
    "SQL databases are relational databases, which means that they use a tabular structure with rows and columns to store data. SQL databases have a fixed schema, meaning that the structure of the data is defined beforehand, and the data must conform to that structure. Examples of SQL databases include MySQL, Oracle, and PostgreSQL.\n",
    "\n",
    "#### NoSQL Databases: \n",
    "NoSQL databases, on the other hand, are non-relational databases that do not use the traditional table-based schema. NoSQL databases are schema-less, meaning that data can be added to the database without defining the structure beforehand. Instead, NoSQL databases use various data models, such as key-value, document, graph, or column-family. Examples of NoSQL databases include MongoDB, Cassandra, and Redis."
   ]
  },
  {
   "cell_type": "markdown",
   "id": "f4376295-040e-4193-83da-eca7950b304a",
   "metadata": {},
   "source": [
    "### Q2. What is DDL? Explain why CREATE, DROP, ALTER, and TRUNCATE are used with an example. "
   ]
  },
  {
   "cell_type": "markdown",
   "id": "3ac39f82-00e7-4db7-ba70-4ffd49422d88",
   "metadata": {},
   "source": [
    "### Answer:\n",
    "DDL: DDL stands for Data Definition Language, and it is a subset of SQL that is used to define and manage the structure of a database. DDL statements are used to create, modify, and delete database objects such as tables, views, indexes, and stored procedures. Some of the commonly used statements are:\n",
    "\n",
    "1. CREATE: The CREATE statement is used to create a new database object, such as a table or view. For example, the following statement creates a new table called \"employees\" with four columns:"
   ]
  },
  {
   "cell_type": "code",
   "execution_count": null,
   "id": "0b7331bb-b19f-4ed5-ab84-17fa591a1765",
   "metadata": {},
   "outputs": [],
   "source": [
    "#SQL\n",
    "CREATE TABLE employees (\n",
    "  id INT PRIMARY KEY,\n",
    "  name VARCHAR(50),\n",
    "  age INT,\n",
    "  salary DECIMAL(10, 2)\n",
    ");"
   ]
  },
  {
   "cell_type": "markdown",
   "id": "2ea59a15-24e3-420e-9e92-f60c14a06943",
   "metadata": {},
   "source": [
    "2. DROP: The DROP statement is used to remove an existing database object. For example, the following statement drops the \"employees\" table:"
   ]
  },
  {
   "cell_type": "code",
   "execution_count": null,
   "id": "25c01408-5e60-4716-91d3-ff3b354abed6",
   "metadata": {},
   "outputs": [],
   "source": [
    "#SQL\n",
    "DROP TABLE employees;"
   ]
  },
  {
   "cell_type": "markdown",
   "id": "c8d795f2-e006-4854-ab9e-a1b002c1c327",
   "metadata": {},
   "source": [
    "3. ALTER: The ALTER statement is used to modify the structure of an existing database object, such as a table. For example, the following statement adds a new column called \"department\" to the \"employees\" table:"
   ]
  },
  {
   "cell_type": "code",
   "execution_count": null,
   "id": "33a58df4-5f5d-4ded-b636-2892f14812b1",
   "metadata": {},
   "outputs": [],
   "source": [
    "#SQL\n",
    "ALTER TABLE employees ADD COLUMN department VARCHAR(50);"
   ]
  },
  {
   "cell_type": "markdown",
   "id": "269504b0-73ca-4745-8757-832c3dfb1cbd",
   "metadata": {},
   "source": [
    "4. TRUNCATE: The TRUNCATE statement is used to remove all data from an existing table, but it does not remove the table structure. For example, the following statement removes all data from the \"employees\" table:"
   ]
  },
  {
   "cell_type": "code",
   "execution_count": null,
   "id": "4e1184d0-71f5-4346-905b-9f3e0eca8e96",
   "metadata": {},
   "outputs": [],
   "source": [
    "#SQL\n",
    "TRUNCATE TABLE employees;"
   ]
  },
  {
   "cell_type": "markdown",
   "id": "7e2ae486-c332-47f9-ab38-2ddff4cd2896",
   "metadata": {},
   "source": [
    "### Q3. What is DML? Explain INSERT, UPDATE, and DELETE with an example."
   ]
  },
  {
   "cell_type": "markdown",
   "id": "f20712ab-a12f-4ab3-a7a4-43c81935e695",
   "metadata": {},
   "source": [
    "#### Answer :\n",
    "\n",
    "DML: DML stands for Data Manipulation Language, and it is a subset of SQL that is used to manipulate the data in a database. DML statements are used to insert, update, and delete data in a table. The following are some commonly used DML statements:\n",
    "\n",
    "1. INSERT: The INSERT statement is used to insert new data into a table. For example, the following statement inserts a new record into the \"employees\" table:"
   ]
  },
  {
   "cell_type": "code",
   "execution_count": null,
   "id": "c195903f-2eaf-4db0-bb9a-22e85e8b2bf8",
   "metadata": {},
   "outputs": [],
   "source": [
    "#SQL\n",
    "INSERT INTO employees (id, name, age, salary, department)\n",
    "VALUES (1, 'John Doe', 30, 50000, 'IT');"
   ]
  },
  {
   "cell_type": "markdown",
   "id": "70cf96f4-b400-47bd-8465-41505d7b8e61",
   "metadata": {},
   "source": [
    "This statement adds a new employee to the \"employees\" table with an ID of 1, a name of \"John Doe\", an age of 30, a salary of 50000, and a department of \"IT\".\n",
    "\n",
    "2. UPDATE: The UPDATE statement is used to modify existing data in a table. For example, the following statement updates the salary of an employee with an ID of 1 in the \"employees\" table:"
   ]
  },
  {
   "cell_type": "code",
   "execution_count": null,
   "id": "9bcbfbae-0a58-4f1b-b5ec-a6fb728d9415",
   "metadata": {},
   "outputs": [],
   "source": [
    "#SQL\n",
    "UPDATE employees\n",
    "SET salary = 60000\n",
    "WHERE id = 1;"
   ]
  },
  {
   "cell_type": "markdown",
   "id": "795875fe-62d4-4aa3-8337-77efe9e0a87e",
   "metadata": {},
   "source": [
    "This statement changes the salary of the employee with an ID of 1 to 60000.\n",
    "\n",
    "3. DELETE: The DELETE statement is used to remove data from a table. For example, the following statement removes an employee with an ID of 1 from the \"employees\" table:"
   ]
  },
  {
   "cell_type": "code",
   "execution_count": null,
   "id": "651b2946-c2ed-4eaa-b44b-071936544b77",
   "metadata": {},
   "outputs": [],
   "source": [
    "#SQL\n",
    "DELETE FROM employees\n",
    "WHERE id = 1;"
   ]
  },
  {
   "cell_type": "markdown",
   "id": "5a2dc5ab-7a76-4bd7-97ed-00c90bbdd77e",
   "metadata": {},
   "source": [
    "This statement removes the record for the employee with an ID of 1 from the \"employees\" table."
   ]
  },
  {
   "cell_type": "markdown",
   "id": "7f99273d-d98a-4b2c-829b-aea7b2debd41",
   "metadata": {},
   "source": [
    "### Q4. What is DQL? Explain SELECT with an example."
   ]
  },
  {
   "cell_type": "markdown",
   "id": "dfe9bc64-b704-4e8b-a588-6c71511881ed",
   "metadata": {},
   "source": [
    "#### Answer:\n",
    "DQL: DQL stands for Data Query Language, and it is a subset of SQL that is used to query and retrieve data from a database. DQL statements are used to retrieve data from one or more tables in a database. The following is a commonly used DQL statement:\n",
    "\n",
    "1. SELECT: The SELECT statement is used to retrieve data from one or more tables in a database. For example, the following statement retrieves all data from the \"employees\" table:"
   ]
  },
  {
   "cell_type": "code",
   "execution_count": null,
   "id": "158f09c9-d94d-4eae-afb2-0f051fe0bcbb",
   "metadata": {},
   "outputs": [],
   "source": [
    "#SQL\n",
    "SELECT * FROM employees;"
   ]
  },
  {
   "cell_type": "markdown",
   "id": "a82ae8d9-5ec4-4be5-828b-fa8a8fbf267f",
   "metadata": {},
   "source": [
    "This statement returns all the data in the \"employees\" table, including the ID, name, age, salary, and department of each employee.\n",
    "\n",
    "You can also specify which columns you want to retrieve by listing them after the SELECT keyword. For example, the following statement retrieves only the name and salary columns from the \"employees\" table:"
   ]
  },
  {
   "cell_type": "code",
   "execution_count": null,
   "id": "d78b5b3c-0982-4c74-8bf4-53136f5bbca3",
   "metadata": {},
   "outputs": [],
   "source": [
    "#SQL\n",
    "SELECT name, salary FROM employees;"
   ]
  },
  {
   "cell_type": "markdown",
   "id": "ba58fc55-9799-4348-bc31-5397ba96da7f",
   "metadata": {},
   "source": [
    "This statement returns only the name and salary data for each employee in the \"employees\" table.\n",
    "\n",
    "You can use various clauses and operators to filter and sort the data retrieved by the SELECT statement. For example, the WHERE clause is used to specify a condition that the retrieved data must meet. The following statement retrieves only the data for employees with a salary greater than 50000:"
   ]
  },
  {
   "cell_type": "code",
   "execution_count": null,
   "id": "63a3c47b-e059-4556-891a-a49cf58ee8c9",
   "metadata": {},
   "outputs": [],
   "source": [
    "#SQL\n",
    "SELECT * FROM employees\n",
    "WHERE salary > 50000;"
   ]
  },
  {
   "cell_type": "markdown",
   "id": "aebeb1bb-bb26-4913-9ddf-1c6fbcaf7c67",
   "metadata": {},
   "source": [
    "This statement returns only the data for employees with a salary greater than 50000."
   ]
  },
  {
   "cell_type": "markdown",
   "id": "4f7e171e-9c9d-4d92-89f1-8e5c4c26219d",
   "metadata": {},
   "source": [
    "### Q5. Explain Primary Key and Foreign Key."
   ]
  },
  {
   "cell_type": "markdown",
   "id": "ed6a5032-192b-4d51-a086-6a69edec38d2",
   "metadata": {},
   "source": [
    "#### Answer:\n",
    "#### Primary Key: \n",
    "A Primary Key is a column or a set of columns in a table that uniquely identifies each row in the table. The primary key constraint ensures that the primary key value for each row in a table is unique and cannot be null. By using primary keys, you can establish relationships between tables and ensure data consistency across the database. For example, a table of students might have a primary key of \"student_id\", where each student has a unique identifier, and this key is used to link data in other tables.\n",
    "\n",
    "#### Foreign Key: \n",
    "A Foreign Key is a column or a set of columns in one table that refers to the primary key of another table. A foreign key constraint is used to ensure that the data in the foreign key column is consistent with the data in the primary key column of the related table. By using foreign keys, you can establish relationships between tables, which is a fundamental aspect of a relational database. For example, a table of courses might have a foreign key \"instructor_id\" that refers to the primary key \"instructor_id\" in a table of instructors. This foreign key constraint ensures that the instructor ID value in the \"courses\" table corresponds to an existing instructor in the \"instructors\" table.\n",
    "\n",
    "In summary, a primary key is used to uniquely identify each row in a table, while a foreign key is used to establish relationships between tables by referencing the primary key of another table. Primary and foreign keys are essential for maintaining data consistency and integrity in a relational database."
   ]
  },
  {
   "cell_type": "markdown",
   "id": "bb7941e1-2976-4ca3-a792-71a54612b6f6",
   "metadata": {},
   "source": [
    "### Q6. Write a python code to connect MySQL to python. Explain the cursor() and execute() method."
   ]
  },
  {
   "cell_type": "markdown",
   "id": "99992001-4193-440a-8bbe-610fd912e222",
   "metadata": {},
   "source": [
    "#### Answer:\n",
    "\n",
    "Connecting MySQL to Python: In Python, the ___mysql.connector___ package provides a way to connect to a MySQL database and execute SQL statements\n",
    "\n",
    "The cursor() and execute() methods are two of the most commonly used methods in this package.\n",
    "\n",
    "1. The cursor() method is used to create a cursor object that you can use to execute SQL statements. The cursor object provides a way to traverse and manipulate the data returned by a SQL query. Here is an example of how to create a cursor object:"
   ]
  },
  {
   "cell_type": "code",
   "execution_count": null,
   "id": "5e18cdc2-8411-4dc0-9dd3-3c4a2e492917",
   "metadata": {},
   "outputs": [],
   "source": [
    "import mysql.connector\n",
    "\n",
    "# create a connection to a MySQL database\n",
    "mydb = mysql.connector.connect(\n",
    "  host=\"localhost\",\n",
    "  user=\"abc\",\n",
    "  password=\"password\"\n",
    ")\n",
    "\n",
    "# create a cursor object\n",
    "mycursor = mydb.cursor()"
   ]
  },
  {
   "cell_type": "markdown",
   "id": "1b572401-de9d-4739-b5c4-471941e320a3",
   "metadata": {},
   "source": [
    "2. The execute() method is used to execute a SQL statement using the cursor object. You can use this method to execute any SQL statement, including SELECT, INSERT, UPDATE, and DELETE statements. Here is an example of how to execute a SELECT statement:"
   ]
  },
  {
   "cell_type": "code",
   "execution_count": null,
   "id": "0abb7ca8-20da-421c-972b-a8594e0a321d",
   "metadata": {},
   "outputs": [],
   "source": [
    "# execute a SELECT statement using the cursor object\n",
    "mycursor.execute('SELECT * FROM employees')\n",
    "\n",
    "# iterate through the rows returned by the query\n",
    "for row in mycursor:\n",
    "    print(row)"
   ]
  },
  {
   "cell_type": "markdown",
   "id": "6c91684d-c265-45e9-822d-44b94290ae14",
   "metadata": {},
   "source": [
    "This code executes a SELECT statement that retrieves all rows from the \"employees\" table and then iterates through the rows returned by the query, printing each row to the console.\n",
    "\n",
    "You can also use the execute() method to execute INSERT, UPDATE, and DELETE statements. Here is an example of how to execute an INSERT statement:"
   ]
  },
  {
   "cell_type": "code",
   "execution_count": null,
   "id": "29c41725-83a9-49ba-9ce9-56d2153045db",
   "metadata": {},
   "outputs": [],
   "source": [
    "# execute an INSERT statement using the cursor object\n",
    "mycursor.execute('INSERT INTO employees (name, age, salary) VALUES (\"John Doe\", 30, 50000)')\n",
    "\n",
    "# commit the changes to the database\n",
    "mydb.commit()"
   ]
  },
  {
   "cell_type": "markdown",
   "id": "5dfc0ebe-2d6b-4f72-b66c-6bf5aef9c73e",
   "metadata": {},
   "source": [
    "This code executes an INSERT statement that inserts a new employee into the \"employees\" table and then commits the changes to the database."
   ]
  },
  {
   "cell_type": "markdown",
   "id": "c708f1af-a52a-47cd-be75-57fbb95693ae",
   "metadata": {},
   "source": [
    "### Q7. Give the order of execution of SQL clauses in SQL query."
   ]
  },
  {
   "cell_type": "markdown",
   "id": "c50b7140-0120-4ae0-8d4a-29d6f37ff7e8",
   "metadata": {},
   "source": [
    "#### Answer :\n",
    "\n",
    "In an SQL query, the order of execution of SQL clauses is as follows:\n",
    "\n",
    "1. FROM: This clause specifies the table or tables from which the data will be selected.\n",
    "2. JOIN: This clause is used to combine rows from two or more tables based on a related column between them.\n",
    "3. WHERE: This clause is used to filter rows based on a specified condition.\n",
    "4. GROUP BY: This clause is used to group the selected rows based on one or more columns.\n",
    "5. HAVING: This clause is used to filter groups based on a specified condition.\n",
    "6. SELECT: This clause is used to select the columns to include in the result set.\n",
    "7. DISTINCT: This clause is used to remove duplicates from the result set.\n",
    "8. ORDER BY: This clause is used to sort the result set based on one or more columns.\n",
    "9. LIMIT: This clause is used to limit the number of rows returned in the result set."
   ]
  },
  {
   "cell_type": "code",
   "execution_count": null,
   "id": "6f20c555-694c-43f2-958b-9625b0266974",
   "metadata": {},
   "outputs": [],
   "source": []
  }
 ],
 "metadata": {
  "kernelspec": {
   "display_name": "Python 3 (ipykernel)",
   "language": "python",
   "name": "python3"
  },
  "language_info": {
   "codemirror_mode": {
    "name": "ipython",
    "version": 3
   },
   "file_extension": ".py",
   "mimetype": "text/x-python",
   "name": "python",
   "nbconvert_exporter": "python",
   "pygments_lexer": "ipython3",
   "version": "3.10.8"
  }
 },
 "nbformat": 4,
 "nbformat_minor": 5
}
