{
 "cells": [
  {
   "cell_type": "markdown",
   "id": "3f2a56bb-bdaa-4c0f-8fc3-1b9f63cda86f",
   "metadata": {},
   "source": [
    "### 1. Write a programm to accept percentage from the user and display the grade according to the following criteria:"
   ]
  },
  {
   "cell_type": "code",
   "execution_count": 5,
   "id": "cb928d85-714d-47d0-ad62-704fcb1333f1",
   "metadata": {},
   "outputs": [
    {
     "name": "stdin",
     "output_type": "stream",
     "text": [
      "Enter your percentage 55\n"
     ]
    },
    {
     "name": "stdout",
     "output_type": "stream",
     "text": [
      "Grade D\n"
     ]
    }
   ],
   "source": [
    "percentage = int(input('Enter your percentage'))\n",
    "\n",
    "if percentage > 90:\n",
    "    print('Grade A')\n",
    "elif percentage >80 and percentage <=90:\n",
    "    print('Grade B')\n",
    "elif percentage >=60 and percentage <=80:\n",
    "    print('Grade C')\n",
    "else:\n",
    "    print('Grade D')"
   ]
  },
  {
   "cell_type": "markdown",
   "id": "691893c8-a97f-43b1-8760-e076fec6e645",
   "metadata": {},
   "source": [
    "### 2. Write a program to accept the cost price of a bike and display the road tax to be paid according to the following criteria :"
   ]
  },
  {
   "cell_type": "code",
   "execution_count": 8,
   "id": "250d0575-a5a7-4ceb-aac7-fe8689286028",
   "metadata": {},
   "outputs": [
    {
     "name": "stdin",
     "output_type": "stream",
     "text": [
      "Enter the cost of your bike 60000\n"
     ]
    },
    {
     "name": "stdout",
     "output_type": "stream",
     "text": [
      "You will pay 10% tax\n"
     ]
    }
   ],
   "source": [
    "cost = int(input('Enter the cost of your bike'))\n",
    "\n",
    "if cost > 100000:\n",
    "    print('You will pay 15% tax')\n",
    "elif cost >50000 and cost <= 100000:\n",
    "    print('You will pay 10% tax')\n",
    "else:\n",
    "    print('You will pay 5% tax')"
   ]
  },
  {
   "cell_type": "markdown",
   "id": "8f0fa40a-4c36-40b6-9656-2b7918df1c55",
   "metadata": {},
   "source": [
    "### 3. Accept any city from the user and display monuments of that city."
   ]
  },
  {
   "cell_type": "code",
   "execution_count": 15,
   "id": "60c22ed4-9d86-4732-9abe-51e75942f5ea",
   "metadata": {},
   "outputs": [
    {
     "name": "stdin",
     "output_type": "stream",
     "text": [
      "Enter your city and get your city's monument Agra\n"
     ]
    },
    {
     "name": "stdout",
     "output_type": "stream",
     "text": [
      "Taj Mahal\n"
     ]
    }
   ],
   "source": [
    "city = input('Enter your city and get your city\\'s monument')\n",
    "\n",
    "if city == 'Delhi':\n",
    "    print('Red Fort')\n",
    "elif city == 'Agra':\n",
    "    print('Taj Mahal')\n",
    "elif city == 'Jaipur':\n",
    "    print('Jal Mahal')"
   ]
  },
  {
   "cell_type": "markdown",
   "id": "d4139072-10bd-4f99-9001-c255a8bdc53f",
   "metadata": {},
   "source": [
    "### 4. Check how many times a given number can be divided by 3 before it is less than or equal to 10."
   ]
  },
  {
   "cell_type": "code",
   "execution_count": 21,
   "id": "ffc010e5-e92f-4e4b-9fd7-568131c661e6",
   "metadata": {},
   "outputs": [
    {
     "name": "stdin",
     "output_type": "stream",
     "text": [
      "Enter number greater than 10 :  45\n"
     ]
    },
    {
     "name": "stdout",
     "output_type": "stream",
     "text": [
      "12\n"
     ]
    }
   ],
   "source": [
    "n=int(input('Enter number greater than 10 : '))\n",
    "count=0\n",
    "while n>=10:\n",
    "    if n%3==0:\n",
    "        count=count+1\n",
    "    n=n-1\n",
    "print(count)"
   ]
  },
  {
   "cell_type": "markdown",
   "id": "4fdd09c0-f9bb-4acd-82f8-3477f4f6d1bf",
   "metadata": {},
   "source": [
    "### 5. Why and when to use while loop in Python give a detailed description with example."
   ]
  },
  {
   "cell_type": "markdown",
   "id": "d337fcbc-a70c-46c7-84ea-801d4bc2c55b",
   "metadata": {},
   "source": [
    "A while loop can be used when the code requires a certain condition to meet. If the condition is True, the code written will work fine. \n",
    "But it will keep continously running, if the code is not written well to somehow end the condition. Which means when the condition is not met and it is False, the loop will stop.\n",
    "\n",
    "Below is the example of a while loop that calculates the sum of numbers, until user finally enters 0."
   ]
  },
  {
   "cell_type": "code",
   "execution_count": 25,
   "id": "707f6cd9-e0c1-4a5e-a7fc-af8bb4908f24",
   "metadata": {},
   "outputs": [
    {
     "name": "stdin",
     "output_type": "stream",
     "text": [
      "Enter a number:  5\n",
      "Enter a number:  6\n",
      "Enter a number:  0\n"
     ]
    },
    {
     "name": "stdout",
     "output_type": "stream",
     "text": [
      "total = 11\n"
     ]
    }
   ],
   "source": [
    "# program to calculate the sum of numbers until the user enters zero\n",
    "\n",
    "total = 0\n",
    "\n",
    "number = int(input('Enter a number: '))\n",
    "\n",
    "while number != 0:\n",
    "    total = total + number\n",
    "    \n",
    "    number = int(input('Enter a number: '))\n",
    "\n",
    "print('total =', total)"
   ]
  },
  {
   "cell_type": "markdown",
   "id": "cb9ecb1f-13dd-4062-bf77-e75ea60f7ddc",
   "metadata": {},
   "source": [
    "### 6. Use nested loop to print 3 different pattern."
   ]
  },
  {
   "cell_type": "code",
   "execution_count": 30,
   "id": "f93321d0-c646-4209-90e3-a9dfa1d7ed2e",
   "metadata": {},
   "outputs": [
    {
     "name": "stdout",
     "output_type": "stream",
     "text": [
      "* * * * * * \n",
      "* * * * * * \n",
      "* * * * * * \n",
      "* * * * * * \n",
      "* * * * * * \n"
     ]
    }
   ],
   "source": [
    "# square pattern\n",
    "\n",
    "i=1\n",
    "while i<=5:\n",
    "    i+=1\n",
    "    j=0\n",
    "    while j<=5:\n",
    "        print(\"*\",end=\" \")\n",
    "        j+=1\n",
    "    print()"
   ]
  },
  {
   "cell_type": "code",
   "execution_count": 29,
   "id": "8213a945-c347-4e0b-83e0-605a6b8ae577",
   "metadata": {},
   "outputs": [
    {
     "name": "stdout",
     "output_type": "stream",
     "text": [
      "* \n",
      "* * \n",
      "* * * \n",
      "* * * * \n",
      "* * * * * \n"
     ]
    }
   ],
   "source": [
    "# right angle triangle\n",
    "\n",
    "i = 1\n",
    "while i <= 5:\n",
    "    j = 1\n",
    "    while j <= i:\n",
    "        print(\"* \", end=\"\")\n",
    "        j += 1\n",
    "    print(\"\")\n",
    "    i += 1"
   ]
  },
  {
   "cell_type": "code",
   "execution_count": 32,
   "id": "43b7d800-e5cf-4a55-b937-979a9f6ea385",
   "metadata": {},
   "outputs": [
    {
     "name": "stdout",
     "output_type": "stream",
     "text": [
      "* * * * * \n",
      "  * * * * \n",
      "    * * * \n",
      "      * * \n",
      "        * \n"
     ]
    }
   ],
   "source": [
    "# inverse right angle triangle\n",
    "\n",
    "rows = 5\n",
    "i = rows\n",
    "while i >= 1:\n",
    "    j = rows\n",
    "    while j > i:\n",
    "        # display space\n",
    "        print(' ', end=' ')\n",
    "        j -= 1\n",
    "    k = 1\n",
    "    while k <= i:\n",
    "        print('*', end=' ')\n",
    "        k += 1\n",
    "    print()\n",
    "    i -= 1"
   ]
  },
  {
   "cell_type": "markdown",
   "id": "322f226e-92e7-4e7b-a64d-7466a4730e74",
   "metadata": {},
   "source": [
    "### 7. Reverse a while loop to display numbers from 10 to 1."
   ]
  },
  {
   "cell_type": "code",
   "execution_count": 36,
   "id": "4f99f8a7-9f8a-43da-9952-ccec9c95d3cd",
   "metadata": {},
   "outputs": [
    {
     "name": "stdout",
     "output_type": "stream",
     "text": [
      "10\n",
      "9\n",
      "8\n",
      "7\n",
      "6\n",
      "5\n",
      "4\n",
      "3\n",
      "2\n",
      "1\n"
     ]
    }
   ],
   "source": [
    "n=10\n",
    "\n",
    "while n!=0:\n",
    "    print(n)\n",
    "    n=n-1"
   ]
  },
  {
   "cell_type": "markdown",
   "id": "6eee8ace-7e84-470d-849b-2cdb7b716d01",
   "metadata": {},
   "source": [
    "### 8. Reverse a while loop to display numbers from 10 to 1."
   ]
  },
  {
   "cell_type": "code",
   "execution_count": 37,
   "id": "4b94ec34-dad1-4b95-93d1-22ead0027eac",
   "metadata": {},
   "outputs": [
    {
     "name": "stdout",
     "output_type": "stream",
     "text": [
      "10\n",
      "9\n",
      "8\n",
      "7\n",
      "6\n",
      "5\n",
      "4\n",
      "3\n",
      "2\n",
      "1\n"
     ]
    }
   ],
   "source": [
    "n=10\n",
    "\n",
    "while n!=0:\n",
    "    print(n)\n",
    "    n=n-1"
   ]
  }
 ],
 "metadata": {
  "kernelspec": {
   "display_name": "Python 3 (ipykernel)",
   "language": "python",
   "name": "python3"
  },
  "language_info": {
   "codemirror_mode": {
    "name": "ipython",
    "version": 3
   },
   "file_extension": ".py",
   "mimetype": "text/x-python",
   "name": "python",
   "nbconvert_exporter": "python",
   "pygments_lexer": "ipython3",
   "version": "3.10.8"
  }
 },
 "nbformat": 4,
 "nbformat_minor": 5
}
