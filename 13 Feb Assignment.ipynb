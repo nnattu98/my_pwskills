{
 "cells": [
  {
   "cell_type": "code",
   "execution_count": 5,
   "id": "5b83bf64-d629-4783-a26a-79f0b273eb4d",
   "metadata": {},
   "outputs": [],
   "source": [
    "import logging\n",
    "logging.basicConfig(filename = 'mylogs.log', level = logging.INFO, format = '%(asctime)s %(message)s')"
   ]
  },
  {
   "cell_type": "markdown",
   "id": "71180d32-5b6f-4e0c-acf1-73db70e11fe2",
   "metadata": {},
   "source": [
    "#### Q1. Explain why we have to use the Exception class while creating a custom exception?\n",
    "Note: Here Exception class refers to the base class for all the exceptions."
   ]
  },
  {
   "cell_type": "markdown",
   "id": "ccb577e7-37bc-4ec0-b84e-956c46da1479",
   "metadata": {},
   "source": [
    "Answer :\n",
    "\n",
    "In Python, when you create a custom exception, it is recommended to derive it from the base Exception class. This is because the Exception class is the base class for all built-in exceptions in Python and serves as the parent class for all custom exceptions.\n",
    "\n",
    "By inheriting from the Exception class, your custom exception becomes part of the standard exception hierarchy in Python. This means that your custom exception can be caught and handled using the same try-except blocks as other built-in exceptions.\n",
    "\n",
    "By using the base Exception class, you ensure that your custom exception is compatible with the standard exception handling mechanism in Python and can be handled in the same way as other built-in exceptions."
   ]
  },
  {
   "cell_type": "markdown",
   "id": "aa6c6877-1258-4334-9616-393444013cd3",
   "metadata": {},
   "source": [
    "#### Q2. Write a Python program to print Python Exception Hierarchy."
   ]
  },
  {
   "cell_type": "code",
   "execution_count": 6,
   "id": "bcd0bd55-f63b-4606-90a9-47675ff1763a",
   "metadata": {},
   "outputs": [
    {
     "name": "stdout",
     "output_type": "stream",
     "text": [
      "Hierarchy for Built-in exceptions is : \n",
      " BaseException\n",
      "--- Exception\n",
      "------ TypeError\n",
      "--------- FloatOperation\n",
      "--------- MultipartConversionError\n",
      "------ StopAsyncIteration\n",
      "------ StopIteration\n",
      "------ ImportError\n",
      "--------- ModuleNotFoundError\n",
      "--------- ZipImportError\n",
      "------ OSError\n",
      "--------- ConnectionError\n",
      "------------ BrokenPipeError\n",
      "------------ ConnectionAbortedError\n",
      "------------ ConnectionRefusedError\n",
      "------------ ConnectionResetError\n",
      "--------------- RemoteDisconnected\n",
      "--------- BlockingIOError\n",
      "--------- ChildProcessError\n",
      "--------- FileExistsError\n",
      "--------- FileNotFoundError\n",
      "--------- IsADirectoryError\n",
      "--------- NotADirectoryError\n",
      "--------- InterruptedError\n",
      "------------ InterruptedSystemCall\n",
      "--------- PermissionError\n",
      "--------- ProcessLookupError\n",
      "--------- TimeoutError\n",
      "--------- UnsupportedOperation\n",
      "--------- itimer_error\n",
      "--------- herror\n",
      "--------- gaierror\n",
      "--------- SSLError\n",
      "------------ SSLCertVerificationError\n",
      "------------ SSLZeroReturnError\n",
      "------------ SSLWantWriteError\n",
      "------------ SSLWantReadError\n",
      "------------ SSLSyscallError\n",
      "------------ SSLEOFError\n",
      "--------- Error\n",
      "------------ SameFileError\n",
      "--------- SpecialFileError\n",
      "--------- ExecError\n",
      "--------- ReadError\n",
      "--------- URLError\n",
      "------------ HTTPError\n",
      "------------ ContentTooShortError\n",
      "--------- BadGzipFile\n",
      "------ EOFError\n",
      "--------- IncompleteReadError\n",
      "------ RuntimeError\n",
      "--------- RecursionError\n",
      "--------- NotImplementedError\n",
      "------------ ZMQVersionError\n",
      "------------ StdinNotImplementedError\n",
      "--------- _DeadlockError\n",
      "--------- BrokenBarrierError\n",
      "--------- BrokenExecutor\n",
      "------------ BrokenThreadPool\n",
      "--------- SendfileNotAvailableError\n",
      "--------- ExtractionError\n",
      "--------- VariableError\n",
      "------ NameError\n",
      "--------- UnboundLocalError\n",
      "------ AttributeError\n",
      "--------- FrozenInstanceError\n",
      "------ SyntaxError\n",
      "--------- IndentationError\n",
      "------------ TabError\n",
      "------ LookupError\n",
      "--------- IndexError\n",
      "--------- KeyError\n",
      "------------ NoSuchKernel\n",
      "------------ UnknownBackend\n",
      "--------- CodecRegistryError\n",
      "------ ValueError\n",
      "--------- UnicodeError\n",
      "------------ UnicodeEncodeError\n",
      "------------ UnicodeDecodeError\n",
      "------------ UnicodeTranslateError\n",
      "--------- UnsupportedOperation\n",
      "--------- JSONDecodeError\n",
      "--------- SSLCertVerificationError\n",
      "--------- Error\n",
      "--------- UnsupportedDigestmodError\n",
      "--------- IllegalMonthError\n",
      "--------- IllegalWeekdayError\n",
      "--------- ParserError\n",
      "--------- ClassNotFound\n",
      "--------- ClipboardEmpty\n",
      "--------- MessageDefect\n",
      "------------ NoBoundaryInMultipartDefect\n",
      "------------ StartBoundaryNotFoundDefect\n",
      "------------ CloseBoundaryNotFoundDefect\n",
      "------------ FirstHeaderLineIsContinuationDefect\n",
      "------------ MisplacedEnvelopeHeaderDefect\n",
      "------------ MissingHeaderBodySeparatorDefect\n",
      "------------ MultipartInvariantViolationDefect\n",
      "------------ InvalidMultipartContentTransferEncodingDefect\n",
      "------------ UndecodableBytesDefect\n",
      "------------ InvalidBase64PaddingDefect\n",
      "------------ InvalidBase64CharactersDefect\n",
      "------------ InvalidBase64LengthDefect\n",
      "------------ HeaderDefect\n",
      "--------------- InvalidHeaderDefect\n",
      "--------------- HeaderMissingRequiredValue\n",
      "--------------- NonPrintableDefect\n",
      "--------------- ObsoleteHeaderDefect\n",
      "--------------- NonASCIILocalPartDefect\n",
      "--------------- InvalidDateDefect\n",
      "--------- MacroToEdit\n",
      "--------- InvalidFileException\n",
      "--------- UnequalIterablesError\n",
      "--------- InvalidVersion\n",
      "--------- _InvalidELFFileHeader\n",
      "--------- InvalidWheelFilename\n",
      "--------- InvalidSdistFilename\n",
      "--------- InvalidSpecifier\n",
      "--------- InvalidMarker\n",
      "--------- UndefinedComparison\n",
      "--------- UndefinedEnvironmentName\n",
      "--------- InvalidRequirement\n",
      "------------ RequirementParseError\n",
      "--------- InvalidVersion\n",
      "------ AssertionError\n",
      "------ ArithmeticError\n",
      "--------- FloatingPointError\n",
      "--------- OverflowError\n",
      "--------- ZeroDivisionError\n",
      "------------ DivisionByZero\n",
      "------------ DivisionUndefined\n",
      "--------- DecimalException\n",
      "------------ Clamped\n",
      "------------ Rounded\n",
      "--------------- Underflow\n",
      "--------------- Overflow\n",
      "------------ Inexact\n",
      "--------------- Underflow\n",
      "--------------- Overflow\n",
      "------------ Subnormal\n",
      "--------------- Underflow\n",
      "------------ DivisionByZero\n",
      "------------ FloatOperation\n",
      "------------ InvalidOperation\n",
      "--------------- ConversionSyntax\n",
      "--------------- DivisionImpossible\n",
      "--------------- DivisionUndefined\n",
      "--------------- InvalidContext\n",
      "------ SystemError\n",
      "--------- CodecRegistryError\n",
      "------ ReferenceError\n",
      "------ MemoryError\n",
      "------ BufferError\n",
      "------ Warning\n",
      "--------- UserWarning\n",
      "------------ GetPassWarning\n",
      "------------ FormatterWarning\n",
      "--------- EncodingWarning\n",
      "--------- DeprecationWarning\n",
      "------------ ProvisionalWarning\n",
      "--------- PendingDeprecationWarning\n",
      "--------- SyntaxWarning\n",
      "--------- RuntimeWarning\n",
      "------------ ProactorSelectorThreadWarning\n",
      "------------ UnknownTimezoneWarning\n",
      "------------ PEP440Warning\n",
      "--------- FutureWarning\n",
      "------------ ProvisionalCompleterWarning\n",
      "--------- ImportWarning\n",
      "--------- UnicodeWarning\n",
      "--------- BytesWarning\n",
      "--------- ResourceWarning\n",
      "--------- DeprecatedTzFormatWarning\n",
      "--------- PkgResourcesDeprecationWarning\n",
      "------ _OptionError\n",
      "------ _Error\n",
      "------ error\n",
      "------ Verbose\n",
      "------ Error\n",
      "------ SubprocessError\n",
      "--------- CalledProcessError\n",
      "--------- TimeoutExpired\n",
      "------ TokenError\n",
      "------ StopTokenizing\n",
      "------ ClassFoundException\n",
      "------ EndOfBlock\n",
      "------ TraitError\n",
      "------ Error\n",
      "------ Error\n",
      "--------- CancelledError\n",
      "--------- TimeoutError\n",
      "--------- InvalidStateError\n",
      "------ _GiveupOnSendfile\n",
      "------ error\n",
      "------ Incomplete\n",
      "------ TimeoutError\n",
      "------ InvalidStateError\n",
      "------ LimitOverrunError\n",
      "------ QueueEmpty\n",
      "------ QueueFull\n",
      "------ Empty\n",
      "------ Full\n",
      "------ ArgumentError\n",
      "------ ZMQBaseError\n",
      "--------- ZMQError\n",
      "------------ ContextTerminated\n",
      "------------ Again\n",
      "------------ InterruptedSystemCall\n",
      "--------- ZMQBindError\n",
      "--------- NotDone\n",
      "------ PickleError\n",
      "--------- PicklingError\n",
      "--------- UnpicklingError\n",
      "------ _Stop\n",
      "------ ArgumentError\n",
      "------ ArgumentTypeError\n",
      "------ ConfigError\n",
      "--------- ConfigLoaderError\n",
      "------------ ArgumentError\n",
      "--------- ConfigFileNotFound\n",
      "------ ConfigurableError\n",
      "--------- MultipleInstanceError\n",
      "------ ApplicationError\n",
      "------ error\n",
      "------ TimeoutError\n",
      "------ error\n",
      "------ ReturnValueIgnoredError\n",
      "------ KeyReuseError\n",
      "------ UnknownKeyError\n",
      "------ LeakedCallbackError\n",
      "------ BadYieldError\n",
      "------ ReturnValueIgnoredError\n",
      "------ Return\n",
      "------ InvalidPortNumber\n",
      "------ error\n",
      "------ LZMAError\n",
      "------ RegistryError\n",
      "------ _GiveupOnFastCopy\n",
      "------ Error\n",
      "--------- NoSectionError\n",
      "--------- DuplicateSectionError\n",
      "--------- DuplicateOptionError\n",
      "--------- NoOptionError\n",
      "--------- InterpolationError\n",
      "------------ InterpolationMissingOptionError\n",
      "------------ InterpolationSyntaxError\n",
      "------------ InterpolationDepthError\n",
      "--------- ParsingError\n",
      "------------ MissingSectionHeaderError\n",
      "------ NoIPAddresses\n",
      "------ BadZipFile\n",
      "------ LargeZipFile\n",
      "------ BadEntryPoint\n",
      "------ NoSuchEntryPoint\n",
      "------ DuplicateKernelError\n",
      "------ ErrorDuringImport\n",
      "------ NotOneValueFound\n",
      "------ CannotEval\n",
      "------ OptionError\n",
      "------ BdbQuit\n",
      "------ Restart\n",
      "------ ExceptionPexpect\n",
      "--------- EOF\n",
      "--------- TIMEOUT\n",
      "------ PtyProcessError\n",
      "------ FindCmdError\n",
      "------ HomeDirError\n",
      "------ ProfileDirError\n",
      "------ IPythonCoreError\n",
      "--------- TryNext\n",
      "--------- UsageError\n",
      "--------- StdinNotImplementedError\n",
      "------ InputRejected\n",
      "------ GetoptError\n",
      "------ ErrorToken\n",
      "------ PrefilterError\n",
      "------ AliasError\n",
      "--------- InvalidAliasError\n",
      "------ Error\n",
      "--------- InterfaceError\n",
      "--------- DatabaseError\n",
      "------------ InternalError\n",
      "------------ OperationalError\n",
      "------------ ProgrammingError\n",
      "------------ IntegrityError\n",
      "------------ DataError\n",
      "------------ NotSupportedError\n",
      "------ Warning\n",
      "------ SpaceInInput\n",
      "------ DOMException\n",
      "--------- IndexSizeErr\n",
      "--------- DomstringSizeErr\n",
      "--------- HierarchyRequestErr\n",
      "--------- WrongDocumentErr\n",
      "--------- InvalidCharacterErr\n",
      "--------- NoDataAllowedErr\n",
      "--------- NoModificationAllowedErr\n",
      "--------- NotFoundErr\n",
      "--------- NotSupportedErr\n",
      "--------- InuseAttributeErr\n",
      "--------- InvalidStateErr\n",
      "--------- SyntaxErr\n",
      "--------- InvalidModificationErr\n",
      "--------- NamespaceErr\n",
      "--------- InvalidAccessErr\n",
      "--------- ValidationErr\n",
      "------ ValidationError\n",
      "------ EditReadOnlyBuffer\n",
      "------ _Retry\n",
      "------ InvalidLayoutError\n",
      "------ HeightIsUnknownError\n",
      "------ ParserSyntaxError\n",
      "------ InternalParseError\n",
      "------ _PositionUpdatingFinished\n",
      "------ SimpleGetItemNotFound\n",
      "------ UncaughtAttributeError\n",
      "------ HasNoContext\n",
      "------ ParamIssue\n",
      "------ _JediError\n",
      "--------- InternalError\n",
      "--------- WrongVersion\n",
      "--------- RefactoringError\n",
      "------ OnErrorLeaf\n",
      "------ InvalidPythonEnvironment\n",
      "------ MessageError\n",
      "--------- MessageParseError\n",
      "------------ HeaderParseError\n",
      "------------ BoundaryError\n",
      "--------- MultipartConversionError\n",
      "--------- CharsetError\n",
      "------ Error\n",
      "------ HTTPException\n",
      "--------- NotConnected\n",
      "--------- InvalidURL\n",
      "--------- UnknownProtocol\n",
      "--------- UnknownTransferEncoding\n",
      "--------- UnimplementedFileMode\n",
      "--------- IncompleteRead\n",
      "--------- ImproperConnectionState\n",
      "------------ CannotSendRequest\n",
      "------------ CannotSendHeader\n",
      "------------ ResponseNotReady\n",
      "--------- BadStatusLine\n",
      "------------ RemoteDisconnected\n",
      "--------- LineTooLong\n",
      "------ InteractivelyDefined\n",
      "------ KillEmbedded\n",
      "------ Error\n",
      "--------- NoSuchProcess\n",
      "------------ ZombieProcess\n",
      "--------- AccessDenied\n",
      "--------- TimeoutExpired\n",
      "------ _Ipv6UnsupportedError\n",
      "------ QueueEmpty\n",
      "------ QueueFull\n",
      "------ DebuggerInitializationError\n",
      "------ ExpatError\n",
      "------ Error\n",
      "--------- ProtocolError\n",
      "--------- ResponseError\n",
      "--------- Fault\n",
      "------ ParseBaseException\n",
      "--------- ParseException\n",
      "--------- ParseFatalException\n",
      "------------ ParseSyntaxException\n",
      "------ RecursiveGrammarException\n",
      "------ ResolutionError\n",
      "--------- VersionConflict\n",
      "------------ ContextualVersionConflict\n",
      "--------- DistributionNotFound\n",
      "--------- UnknownExtra\n",
      "------ _Error\n",
      "------ UnableToResolveVariableException\n",
      "------ InvalidTypeInArgsException\n",
      "--- GeneratorExit\n",
      "--- SystemExit\n",
      "--- KeyboardInterrupt\n",
      "--- CancelledError\n",
      "--- AbortThread\n"
     ]
    }
   ],
   "source": [
    "# import inspect module\n",
    "import inspect\n",
    "  \n",
    "# our treeClass function\n",
    "def treeClass(cls, ind = 0):\n",
    "    # print name of the class\n",
    "    print ('-' * ind, cls.__name__)\n",
    "    logging.info(f\"Printed {cls.__name__} class from the hierarchy\")\n",
    "      \n",
    "    # iterating through subclasses\n",
    "    for i in cls.__subclasses__():\n",
    "        treeClass(i, ind + 3)\n",
    "\n",
    "print(\"Hierarchy for Built-in exceptions is : \")\n",
    "  \n",
    "# inspect.getmro() Return a tuple \n",
    "# of class  cls’s base classes.\n",
    "  \n",
    "# building a tree hierarchy \n",
    "inspect.getclasstree(inspect.getmro(BaseException))\n",
    "  \n",
    "# function call\n",
    "treeClass(BaseException)"
   ]
  },
  {
   "cell_type": "markdown",
   "id": "c52db557-b93e-4f96-ab1a-68fdd420b3fe",
   "metadata": {},
   "source": [
    "#### Q3. What errors are defined in the ArithematicError class? Explain any two with examples."
   ]
  },
  {
   "cell_type": "markdown",
   "id": "f155f1ab-afc6-4af4-ae48-3a5a4fc88ca5",
   "metadata": {},
   "source": [
    "Answer:\n",
    "The ArithmeticError class is a built-in exception in Python that represents arithmetic errors, such as overflow, divide by zero, and invalid operation. In Python, the ArithmeticError class is a subclass of the Exception class and is used as a general base class for all arithmetic exceptions."
   ]
  },
  {
   "cell_type": "markdown",
   "id": "9f9202a3-4c82-4a49-9eef-6e30429e1400",
   "metadata": {},
   "source": [
    "There are two subclasses of ArithmeticError:"
   ]
  },
  {
   "cell_type": "markdown",
   "id": "1af6946f-94b1-40b9-93b6-e98558c7cff4",
   "metadata": {},
   "source": [
    "1. OverflowError:\n",
    "This exception is raised when a calculation exceeds the maximum limit for a numeric type, causing an overflow. For example, if you try to store a number that is larger than the maximum value for an int type, an OverflowError will be raised:"
   ]
  },
  {
   "cell_type": "code",
   "execution_count": 7,
   "id": "08927a4b-87d8-4019-bd3e-9b91e0a48756",
   "metadata": {},
   "outputs": [
    {
     "ename": "OverflowError",
     "evalue": "math range error",
     "output_type": "error",
     "traceback": [
      "\u001b[0;31m---------------------------------------------------------------------------\u001b[0m",
      "\u001b[0;31mOverflowError\u001b[0m                             Traceback (most recent call last)",
      "Cell \u001b[0;32mIn[7], line 2\u001b[0m\n\u001b[1;32m      1\u001b[0m \u001b[38;5;28;01mimport\u001b[39;00m \u001b[38;5;21;01mmath\u001b[39;00m\n\u001b[0;32m----> 2\u001b[0m \u001b[38;5;28mprint\u001b[39m(\u001b[43mmath\u001b[49m\u001b[38;5;241;43m.\u001b[39;49m\u001b[43mexp\u001b[49m\u001b[43m(\u001b[49m\u001b[38;5;241;43m1000\u001b[39;49m\u001b[43m)\u001b[49m)\n",
      "\u001b[0;31mOverflowError\u001b[0m: math range error"
     ]
    }
   ],
   "source": [
    "import math\n",
    "print(math.exp(1000))"
   ]
  },
  {
   "cell_type": "markdown",
   "id": "d7fe2d79-b2c4-4d17-94ee-b95a940e3957",
   "metadata": {},
   "source": [
    "2. ZeroDivisionError:\n",
    "This exception is raised when an attempt is made to divide a number by zero. For example:"
   ]
  },
  {
   "cell_type": "code",
   "execution_count": 8,
   "id": "a71cc74f-7787-48b5-9cba-6dae3bd1d672",
   "metadata": {},
   "outputs": [
    {
     "ename": "ZeroDivisionError",
     "evalue": "division by zero",
     "output_type": "error",
     "traceback": [
      "\u001b[0;31m---------------------------------------------------------------------------\u001b[0m",
      "\u001b[0;31mZeroDivisionError\u001b[0m                         Traceback (most recent call last)",
      "Cell \u001b[0;32mIn[8], line 1\u001b[0m\n\u001b[0;32m----> 1\u001b[0m \u001b[38;5;241;43m10\u001b[39;49m\u001b[38;5;241;43m/\u001b[39;49m\u001b[38;5;241;43m0\u001b[39;49m\n",
      "\u001b[0;31mZeroDivisionError\u001b[0m: division by zero"
     ]
    }
   ],
   "source": [
    "10/0"
   ]
  },
  {
   "cell_type": "markdown",
   "id": "5973a55d-926e-4b71-8cb1-500daaf5520f",
   "metadata": {},
   "source": [
    "#### Q.4 Why LookupError class is used? Explain with an example KeyError and IndexError."
   ]
  },
  {
   "cell_type": "markdown",
   "id": "a9086421-e1f1-42ad-ae4c-608ec828dce7",
   "metadata": {},
   "source": [
    "Answer:\n",
    "LookUpError: Lookup Error acts as a base class for the exceptions that occur when a key or index used on a mapping or sequence of a list/dictionary is invalid or does not exists.\n",
    "\n",
    "The two types of exceptions raised are:\n",
    "\n",
    "1. IndexError: When you are trying to access an index (sequence) of a list that does not exist in that list or is out of range of that list, an index error is raised."
   ]
  },
  {
   "cell_type": "code",
   "execution_count": 9,
   "id": "bb499cc2-8d3f-4000-bddd-005bce4a1b09",
   "metadata": {},
   "outputs": [
    {
     "ename": "IndexError",
     "evalue": "list index out of range",
     "output_type": "error",
     "traceback": [
      "\u001b[0;31m---------------------------------------------------------------------------\u001b[0m",
      "\u001b[0;31mIndexError\u001b[0m                                Traceback (most recent call last)",
      "Cell \u001b[0;32mIn[9], line 2\u001b[0m\n\u001b[1;32m      1\u001b[0m a \u001b[38;5;241m=\u001b[39m [\u001b[38;5;124m'\u001b[39m\u001b[38;5;124ma\u001b[39m\u001b[38;5;124m'\u001b[39m, \u001b[38;5;124m'\u001b[39m\u001b[38;5;124mb\u001b[39m\u001b[38;5;124m'\u001b[39m, \u001b[38;5;124m'\u001b[39m\u001b[38;5;124mc\u001b[39m\u001b[38;5;124m'\u001b[39m]  \n\u001b[0;32m----> 2\u001b[0m \u001b[38;5;28mprint\u001b[39m (\u001b[43ma\u001b[49m\u001b[43m[\u001b[49m\u001b[38;5;241;43m4\u001b[39;49m\u001b[43m]\u001b[49m)\n",
      "\u001b[0;31mIndexError\u001b[0m: list index out of range"
     ]
    }
   ],
   "source": [
    "a = ['a', 'b', 'c']  \n",
    "print (a[4])"
   ]
  },
  {
   "cell_type": "markdown",
   "id": "35c68053-42ad-43ad-bf2d-36fbbbc1878c",
   "metadata": {},
   "source": [
    "We can handle this error as below :"
   ]
  },
  {
   "cell_type": "code",
   "execution_count": 10,
   "id": "78adf530-a83c-4a9b-afe3-a43b2ba3b443",
   "metadata": {},
   "outputs": [
    {
     "name": "stdout",
     "output_type": "stream",
     "text": [
      "Index Error Exception Raised, list index out of range\n"
     ]
    }
   ],
   "source": [
    "try:  \n",
    "    a = ['a', 'b', 'c']  \n",
    "    print (a[4])  \n",
    "except LookupError:  \n",
    "    logging.warning('LookupError raised, handling..')\n",
    "    print (\"Index Error Exception Raised, list index out of range\")\n",
    "else:  \n",
    "    print (\"Success, no error!\")"
   ]
  },
  {
   "cell_type": "markdown",
   "id": "7f82f756-ba01-4090-b0d0-dc21c340c1fc",
   "metadata": {},
   "source": [
    "2. Key Error: If a key you are trying to access is not found in the dictionary, a key error exception is raised."
   ]
  },
  {
   "cell_type": "code",
   "execution_count": 11,
   "id": "ba605ef5-5f57-4ce6-b9c3-554f07ec7504",
   "metadata": {},
   "outputs": [
    {
     "ename": "KeyError",
     "evalue": "4",
     "output_type": "error",
     "traceback": [
      "\u001b[0;31m---------------------------------------------------------------------------\u001b[0m",
      "\u001b[0;31mKeyError\u001b[0m                                  Traceback (most recent call last)",
      "Cell \u001b[0;32mIn[11], line 2\u001b[0m\n\u001b[1;32m      1\u001b[0m a \u001b[38;5;241m=\u001b[39m {\u001b[38;5;241m1\u001b[39m:\u001b[38;5;124m'\u001b[39m\u001b[38;5;124ma\u001b[39m\u001b[38;5;124m'\u001b[39m, \u001b[38;5;241m2\u001b[39m:\u001b[38;5;124m'\u001b[39m\u001b[38;5;124mb\u001b[39m\u001b[38;5;124m'\u001b[39m, \u001b[38;5;241m3\u001b[39m:\u001b[38;5;124m'\u001b[39m\u001b[38;5;124mc\u001b[39m\u001b[38;5;124m'\u001b[39m}  \n\u001b[0;32m----> 2\u001b[0m \u001b[38;5;28mprint\u001b[39m (\u001b[43ma\u001b[49m\u001b[43m[\u001b[49m\u001b[38;5;241;43m4\u001b[39;49m\u001b[43m]\u001b[49m)\n",
      "\u001b[0;31mKeyError\u001b[0m: 4"
     ]
    }
   ],
   "source": [
    "a = {1:'a', 2:'b', 3:'c'}  \n",
    "print (a[4])"
   ]
  },
  {
   "cell_type": "markdown",
   "id": "d6e824ab-87b8-41b9-b36d-08e272114118",
   "metadata": {},
   "source": [
    "We can handle this error as below :"
   ]
  },
  {
   "cell_type": "code",
   "execution_count": 12,
   "id": "bd40b047-6315-42cc-b6df-a6983ce68663",
   "metadata": {},
   "outputs": [
    {
     "name": "stdout",
     "output_type": "stream",
     "text": [
      "Key Error Exception Raised.\n"
     ]
    }
   ],
   "source": [
    "try:  \n",
    "    a = {1:'a', 2:'b', 3:'c'}  \n",
    "    print (a[4])  \n",
    "except LookupError:  \n",
    "    logging.warning('LookupError raised, handling..')\n",
    "    print (\"Key Error Exception Raised.\")\n",
    "else:  \n",
    "    print (\"Success, no error!\")"
   ]
  },
  {
   "cell_type": "markdown",
   "id": "18e63290-804e-4726-bbb2-8d8db39c5534",
   "metadata": {},
   "source": [
    "#### Q5. Explain Import Error. What is ModuleNotFoundError in python?"
   ]
  },
  {
   "cell_type": "markdown",
   "id": "fb76b0ff-3b53-49f2-8d71-c44e936ea356",
   "metadata": {},
   "source": [
    "In Python, the \"ImportError\" is raised when an import statement fails to find a module that was specified in the import statement. This usually happens when the specified module doesn't exist, or when it's not installed properly.\n",
    "\n",
    "A more specific type of ImportError is \"ModuleNotFoundError\", which is raised when the specified module can't be found in any of the directories listed in sys.path. This error indicates that the module you're trying to import is not installed, or that it doesn't exist in the directories that Python is searching for modules."
   ]
  },
  {
   "cell_type": "code",
   "execution_count": 13,
   "id": "68886d11-c802-4d61-8d22-11df856c481c",
   "metadata": {},
   "outputs": [
    {
     "ename": "ModuleNotFoundError",
     "evalue": "No module named 'wxyz'",
     "output_type": "error",
     "traceback": [
      "\u001b[0;31m---------------------------------------------------------------------------\u001b[0m",
      "\u001b[0;31mModuleNotFoundError\u001b[0m                       Traceback (most recent call last)",
      "Cell \u001b[0;32mIn[13], line 3\u001b[0m\n\u001b[1;32m      1\u001b[0m \u001b[38;5;66;03m# Example \u001b[39;00m\n\u001b[0;32m----> 3\u001b[0m \u001b[38;5;28;01mimport\u001b[39;00m \u001b[38;5;21;01mwxyz\u001b[39;00m\n",
      "\u001b[0;31mModuleNotFoundError\u001b[0m: No module named 'wxyz'"
     ]
    }
   ],
   "source": [
    "# Example \n",
    "\n",
    "import wxyz"
   ]
  },
  {
   "cell_type": "markdown",
   "id": "3d651f20-b939-4505-a872-e1213c00e99e",
   "metadata": {},
   "source": [
    "#### Q6. List down some best practices for exception handling in Python."
   ]
  },
  {
   "cell_type": "markdown",
   "id": "b0b9c74c-ca20-4958-bcf7-596a262f9857",
   "metadata": {},
   "source": [
    "1. Always use a specific exception: if you're dividing a number by zero, it will cause ZeroDivisionError, so instead of writing superclass Exception always try to use the specific error.\n",
    "2. Always print a proper message in your exception handling block\n",
    "3. Always try to log your error using logging module\n",
    "4. Always try to avoid to write a multiple exception handling\n",
    "5. Document all the errors\n",
    "6. Cleanup all the resources: close all the files that were opened during the code etc."
   ]
  }
 ],
 "metadata": {
  "kernelspec": {
   "display_name": "Python 3 (ipykernel)",
   "language": "python",
   "name": "python3"
  },
  "language_info": {
   "codemirror_mode": {
    "name": "ipython",
    "version": 3
   },
   "file_extension": ".py",
   "mimetype": "text/x-python",
   "name": "python",
   "nbconvert_exporter": "python",
   "pygments_lexer": "ipython3",
   "version": "3.10.8"
  }
 },
 "nbformat": 4,
 "nbformat_minor": 5
}
