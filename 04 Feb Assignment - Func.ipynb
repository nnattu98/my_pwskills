{
 "cells": [
  {
   "cell_type": "markdown",
   "id": "9c16228c-198c-4080-8128-9656cd6d35d8",
   "metadata": {},
   "source": [
    "### Q1. Create a python program to sort the given list of tuples based on integer value using a lambda function.\n",
    "[('Sachin Tendulkar', 34357),('Ricky Ponting', 27483),('Jack Kallis', 25534)('Virat Kohli', 24936)]"
   ]
  },
  {
   "cell_type": "code",
   "execution_count": 25,
   "id": "e6e6ad54-c96f-42fc-bf20-9cfb348a5bce",
   "metadata": {},
   "outputs": [
    {
     "data": {
      "text/plain": [
       "[('Virat Kohli', 24936),\n",
       " ('Jack Kallis', 25534),\n",
       " ('Ricky Ponting', 27483),\n",
       " ('Sachin Tendulkar', 34357)]"
      ]
     },
     "execution_count": 25,
     "metadata": {},
     "output_type": "execute_result"
    }
   ],
   "source": [
    "l=[('Sachin Tendulkar', 34357),('Ricky Ponting', 27483),('Jack Kallis', 25534),('Virat Kohli', 24936)]\n",
    "l1 = sorted(l, key= lambda x : x[1])\n",
    "list(l1)"
   ]
  },
  {
   "cell_type": "markdown",
   "id": "f293ff20-10ad-4acc-b1c8-11a1961e9178",
   "metadata": {},
   "source": [
    "#### Q2. Write a Python program to find the squares of all the numbers in the given list of integers using lambda and map functions.\n",
    "\n",
    "[1,2,3,4,5,6,7,8,9,10]"
   ]
  },
  {
   "cell_type": "code",
   "execution_count": 32,
   "id": "b54b9483-f404-4231-9a21-481dba91e6ce",
   "metadata": {},
   "outputs": [
    {
     "data": {
      "text/plain": [
       "[1, 4, 9, 16, 25, 36, 49, 64, 81, 100]"
      ]
     },
     "execution_count": 32,
     "metadata": {},
     "output_type": "execute_result"
    }
   ],
   "source": [
    "l = [1,2,3,4,5,6,7,8,9,10]\n",
    "l1 = map(lambda x : x**2, l)\n",
    "list(l1)"
   ]
  },
  {
   "cell_type": "markdown",
   "id": "4da0d9e1-126f-48d5-beef-2a25cde34608",
   "metadata": {},
   "source": [
    "### Q3. Write a python program to convert the given list of integers into a tuple of strings. Use map and lambda functions.\n",
    "\n",
    "#### Given string : [1,2,3,4,5,6,7,8,9,10]\n",
    "#### Expected output : ['1','2','3','4','5','6','7','8','9','10']"
   ]
  },
  {
   "cell_type": "code",
   "execution_count": 33,
   "id": "813e2be0-f5aa-4549-a96f-d1e3328524fd",
   "metadata": {},
   "outputs": [
    {
     "data": {
      "text/plain": [
       "['1', '2', '3', '4', '5', '6', '7', '8', '9', '10']"
      ]
     },
     "execution_count": 33,
     "metadata": {},
     "output_type": "execute_result"
    }
   ],
   "source": [
    "l = [1,2,3,4,5,6,7,8,9,10]\n",
    "l1 = map(lambda x : str(x), l)\n",
    "list(l1)"
   ]
  },
  {
   "cell_type": "markdown",
   "id": "3d7effeb-8947-416c-a608-5b68ed0d3b23",
   "metadata": {},
   "source": [
    "### Q4. Write a python program using reduce function to compute the product of a list containing numbers from 1 to 25."
   ]
  },
  {
   "cell_type": "code",
   "execution_count": 38,
   "id": "88bbd186-289e-44d5-acf3-2ef77685efe9",
   "metadata": {},
   "outputs": [
    {
     "data": {
      "text/plain": [
       "15511210043330985984000000"
      ]
     },
     "execution_count": 38,
     "metadata": {},
     "output_type": "execute_result"
    }
   ],
   "source": [
    "## Here I have considered the product means the multiplication of all these numbers.\n",
    "\n",
    "from functools import reduce\n",
    "\n",
    "l = list(range(1,26))\n",
    "reduce(lambda x, y : x*y, l)"
   ]
  },
  {
   "cell_type": "code",
   "execution_count": 39,
   "id": "5c13f1ad-fdcc-40f0-acd8-fb1f63070c93",
   "metadata": {},
   "outputs": [
    {
     "data": {
      "text/plain": [
       "325"
      ]
     },
     "execution_count": 39,
     "metadata": {},
     "output_type": "execute_result"
    }
   ],
   "source": [
    "## Here I have considered the product means the addition of all these numbers.\n",
    "\n",
    "from functools import reduce\n",
    "\n",
    "l = list(range(1,26))\n",
    "reduce(lambda x, y : x + y, l)"
   ]
  },
  {
   "cell_type": "markdown",
   "id": "bb88ea2e-abe4-4b82-a4cc-da22891f7826",
   "metadata": {},
   "source": [
    "### Q5. Write a python program to filter the numbers in a given list that are divisible by 2 and 3 using the filter function.\n",
    "\n",
    "#### [2,3,6,9,27,60,90,120,55,46]"
   ]
  },
  {
   "cell_type": "code",
   "execution_count": 42,
   "id": "786c1d72-22f1-47cd-8c38-c33139124091",
   "metadata": {},
   "outputs": [
    {
     "data": {
      "text/plain": [
       "[6, 60, 90, 120]"
      ]
     },
     "execution_count": 42,
     "metadata": {},
     "output_type": "execute_result"
    }
   ],
   "source": [
    "## -- filtering the numbers from the below list that are divisible by 2 and 3 both.\n",
    "\n",
    "l = [2,3,6,9,27,60,90,120,55,46]\n",
    "list(filter(lambda x : x % 2 ==0 and x % 3 ==0, l))"
   ]
  },
  {
   "cell_type": "markdown",
   "id": "d7159121-12f2-45ef-9076-03a41b2c1852",
   "metadata": {},
   "source": [
    "### Q6. Write a python program to find palindromes in the given list of strings using lambda and filter function.\n",
    "\n",
    "#### ['python', 'php', 'aba', 'radar', 'level']"
   ]
  },
  {
   "cell_type": "code",
   "execution_count": 43,
   "id": "63e8c223-40f4-4136-9d9f-559adec17de2",
   "metadata": {},
   "outputs": [
    {
     "data": {
      "text/plain": [
       "['php', 'aba', 'radar', 'level']"
      ]
     },
     "execution_count": 43,
     "metadata": {},
     "output_type": "execute_result"
    }
   ],
   "source": [
    "l = ['python', 'php', 'aba', 'radar', 'level']\n",
    "list(filter(lambda x : x == x[::-1],l))"
   ]
  }
 ],
 "metadata": {
  "kernelspec": {
   "display_name": "Python 3 (ipykernel)",
   "language": "python",
   "name": "python3"
  },
  "language_info": {
   "codemirror_mode": {
    "name": "ipython",
    "version": 3
   },
   "file_extension": ".py",
   "mimetype": "text/x-python",
   "name": "python",
   "nbconvert_exporter": "python",
   "pygments_lexer": "ipython3",
   "version": "3.10.8"
  }
 },
 "nbformat": 4,
 "nbformat_minor": 5
}
